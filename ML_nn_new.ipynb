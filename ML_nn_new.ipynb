{
  "nbformat": 4,
  "nbformat_minor": 0,
  "metadata": {
    "colab": {
      "name": "ML_nn_new.ipynb",
      "provenance": [],
      "authorship_tag": "ABX9TyOTgb3Q/bQiFn1BWyTcFHqf",
      "include_colab_link": true
    },
    "kernelspec": {
      "name": "python3",
      "display_name": "Python 3"
    },
    "language_info": {
      "name": "python"
    }
  },
  "cells": [
    {
      "cell_type": "markdown",
      "metadata": {
        "id": "view-in-github",
        "colab_type": "text"
      },
      "source": [
        "<a href=\"https://colab.research.google.com/github/nssn96/ML_Neural-networks/blob/main/ML_nn_new.ipynb\" target=\"_parent\"><img src=\"https://colab.research.google.com/assets/colab-badge.svg\" alt=\"Open In Colab\"/></a>"
      ]
    },
    {
      "cell_type": "markdown",
      "source": [
        "# ML Assignment 2 - Neural Networks\n",
        "\n",
        "\n",
        "1.   Author : Surya Narayanan Nadhamuni Suresh\n",
        "2.   UTA ID : 1001877873\n"
      ],
      "metadata": {
        "id": "H4lgkRlpp0RT"
      }
    },
    {
      "cell_type": "code",
      "execution_count": 12,
      "metadata": {
        "id": "EFa5hY2BTlrS"
      },
      "outputs": [],
      "source": [
        "#import lines\n",
        "import numpy as np\n",
        "import pandas as pd\n",
        "import matplotlib.pyplot as plt"
      ]
    },
    {
      "cell_type": "code",
      "source": [
        "#References Used\n",
        "#https://towardsdatascience.com/https-medium-com-piotr-skalski92-deep-dive-into-deep-networks-math-17660bc376ba\n",
        "#https://towardsdatascience.com/lets-code-a-neural-network-in-plain-numpy-ae7e74410795\n",
        "#https://towardsdatascience.com/an-introduction-to-neural-networks-with-implementation-from-scratch-using-python-da4b6a45c05b\n",
        "\n",
        "# This is the Layer class\n",
        "\n",
        "class Layer:\n",
        "\n",
        "  def initial_w_bias(self,nn):\n",
        "    param = {}\n",
        "    #creating the values for the w and bias matrix\n",
        "    for i in range(1,len(nn)):\n",
        "      param['w' + str(i)] = np.random.randn(nn[i], nn[i-1])*0.01\n",
        "      param['B' + str(i)] = np.random.randn(nn[i],1)*0.01\n",
        "    return param\n"
      ],
      "metadata": {
        "id": "GPAB9jOSp8Bc"
      },
      "execution_count": 13,
      "outputs": []
    },
    {
      "cell_type": "code",
      "source": [
        "#This is the class for the hyperbolic tangent functions\n",
        "\n",
        "#class htangent_activation(Layer):\n",
        "\n",
        "def tanh_forwardprop(z):\n",
        "  #2/(1 + e-2x) - 1\n",
        "  return (2/(1+np.exp(-2*z)) -1)\n",
        "\n",
        "def tanh_backprop(dA,z):\n",
        "  value = tanh_forwardprop(z)\n",
        "  return dA * value * (1-value)\n"
      ],
      "metadata": {
        "id": "LPpEYhXdqvWx"
      },
      "execution_count": 14,
      "outputs": []
    },
    {
      "cell_type": "code",
      "source": [
        "#This is the class for the sigmoid function\n",
        "\n",
        "#class sigmoid_activation(Layer):\n",
        "\n",
        "def sigmoid_forwardprop(Z):\n",
        "  return 1/(1+np.exp(-Z))\n",
        "  \n",
        "def sigmoid_backprop(dA,z):\n",
        "  value = sigmoid_forwardprop(z)\n",
        "  return dA * value * (1-value)"
      ],
      "metadata": {
        "id": "xqdDZRlrqx0c"
      },
      "execution_count": 15,
      "outputs": []
    },
    {
      "cell_type": "code",
      "source": [
        "#This is the class for the softmax function\n",
        "\n",
        "class softmax_activation(Layer):\n",
        "\n",
        "  def softmax_forwardprop(self,z):\n",
        "    return np.exp(z) / sum(np.exp(z))\n",
        "  \n",
        "\n",
        "  #derivative of softmax\n",
        "  def softmax_backprop(self,z):\n",
        "    exp=np.exp(z-z.max())\n",
        "    return exp/np.sum(exp,axis=0)*(1-exp/np.sum(exp,axis=0))\n",
        "    \n",
        "\n",
        "\n",
        "\n",
        "  \n",
        "  #Yet to edit this--- DONT FORGET+++++++++++++++++++++++++++++++++++++++++++++++++++++++++++++++++++\n",
        "  # def softmax_backprop(probs, bp_err):\n",
        "  #   dim = probs.shape[1]\n",
        "  #   output = np.empty(probs.shape)\n",
        "  #   for j in range(dim):\n",
        "  #       d_prob_over_xj = - (probs * probs[:,[j]])  # i.e. prob_k * prob_j, no matter k==j or not\n",
        "  #       d_prob_over_xj[:,j] += probs[:,j]   # i.e. when k==j, +prob_j\n",
        "  #       output[:,j] = np.sum(bp_err * d_prob_over_xj, axis=1)\n",
        "  #   return output\n",
        "  "
      ],
      "metadata": {
        "id": "EcSk6q_iq0LT"
      },
      "execution_count": 16,
      "outputs": []
    },
    {
      "cell_type": "code",
      "source": [
        "# This is the Linear layer class\n",
        "\n",
        "class LinearLayer(Layer):\n",
        "\n",
        "\n",
        "  def forward(self,data,param):\n",
        "    \n",
        "    #Z_mat = np.dot(w,prev_out)\n",
        "    \n",
        "    layer_num = len(param)//2\n",
        "    backup = {} # to store info required for the backward calculation\n",
        "\n",
        "    #traversing over the layers in the neural network\n",
        "    #this is the same steps that we used to assign the weights and bias for network\n",
        "    for i in range(1,layer_num+1):\n",
        "      #if it is the first iteration the input will be the input ie the train or the test data\n",
        "      w = param['w'+str(i)]\n",
        "      bias = param['b'+str(i)]\n",
        "      if i==1:\n",
        "        #Z_mat--> the input matrix calculation which will be passed in the activation function\n",
        "        Z_mat = np.dot(w, data) + bias\n",
        "        backup['A' + str(i)] = tanh_forwardprop(Z_mat)\n",
        "      else:\n",
        "        Z_mat = np.dot(w, backup['A' + str(i-1)]) + bias\n",
        "        if i==layer_num:\n",
        "          backup['A' + str(i)] = Z_mat\n",
        "        else:\n",
        "          backup['A' + str(i)] = tanh_forwardprop(Z_mat)\n",
        "\n",
        "      #storing the values for backward pass call\n",
        "      backup['Z' + str(i)] = Z_mat\n",
        "\n",
        "    return backup\n",
        "  \n",
        "  def compute_loss(self,backup,target):\n",
        "    layer_num = len(backup)//2\n",
        "    y_pred = backup['A' + str(layer_num)]\n",
        "    loss = cost = 1/(2*len(target)) * np.sum(np.square(y_pred - target))\n",
        "    return loss\n",
        "  \n",
        "  def backward(self,data,target,param,backup):\n",
        "    deriv_values= {}  #dictionary to store the derivative values\n",
        "    layer_num = len(target)//2\n",
        "    n = len(target)\n",
        "     #since we need to go backward in backward propagation\n",
        "    for i in range(layer_num,0,-1):\n",
        "\n",
        "      A_previous = backup['A'+str(i)]\n",
        "      z_current = backup['Z'+str(i)]\n",
        "      w = param['w'+str(i)]\n",
        "      bias = param['b'+str(i)]\n",
        "\n",
        "      if i == layer_num:\n",
        "        dA_current = 1/n * (A_previous - target)\n",
        "        dz = dA_current\n",
        "      else:\n",
        "        dA_current = np.dot(param['w' + str(i+1)].T, dz)\n",
        "        dz = np.multiply(dA_current, np.where(A_previous>=0, 1, 0))\n",
        "      if i==1:\n",
        "        dw = 1/n * np.dot(dz, data.T)\n",
        "        dbias = 1/n * np.sum(dz, axis=1, keepdims=True)\n",
        "      else:\n",
        "        dw = 1/n * np.dot(dz,backup['A' + str(i-1)].T)\n",
        "        dbias = 1/n * np.sum(dz, axis=1, keepdims=True)\n",
        "      \n",
        "      deriv_values['dw' + str(i)] = dw\n",
        "      deriv_values['db' + str(i)] = dbias\n",
        "\n",
        "    return deriv_values\n",
        "\n",
        "      \n",
        "\n",
        "\n",
        "\n",
        "\n",
        "\n",
        "\n",
        "\n",
        "\n",
        "\n",
        "\n",
        "\n",
        "\n",
        "\n",
        "\n"
      ],
      "metadata": {
        "id": "pi04VShKrvxh"
      },
      "execution_count": 17,
      "outputs": []
    }
  ]
}