{
  "nbformat": 4,
  "nbformat_minor": 0,
  "metadata": {
    "colab": {
      "name": "ML_nn_new.ipynb",
      "provenance": [],
      "authorship_tag": "ABX9TyP7pE5BQBmjq6VvDXcLahOb",
      "include_colab_link": true
    },
    "kernelspec": {
      "name": "python3",
      "display_name": "Python 3"
    },
    "language_info": {
      "name": "python"
    },
    "gpuClass": "standard",
    "accelerator": "GPU"
  },
  "cells": [
    {
      "cell_type": "markdown",
      "metadata": {
        "id": "view-in-github",
        "colab_type": "text"
      },
      "source": [
        "<a href=\"https://colab.research.google.com/github/nssn96/ML_Neural-networks/blob/main/ML_nn_new.ipynb\" target=\"_parent\"><img src=\"https://colab.research.google.com/assets/colab-badge.svg\" alt=\"Open In Colab\"/></a>"
      ]
    },
    {
      "cell_type": "markdown",
      "source": [
        "# ML Assignment 2 - Neural Networks\n",
        "\n",
        "\n",
        "1.   Author : Surya Narayanan Nadhamuni Suresh\n",
        "2.   UTA ID : 1001877873\n"
      ],
      "metadata": {
        "id": "H4lgkRlpp0RT"
      }
    },
    {
      "cell_type": "code",
      "execution_count": 80,
      "metadata": {
        "id": "EFa5hY2BTlrS"
      },
      "outputs": [],
      "source": [
        "#import lines\n",
        "import numpy as np\n",
        "import pandas as pd\n",
        "import matplotlib.pyplot as plt\n",
        "from sklearn.metrics import mean_squared_error\n",
        "from sklearn.datasets import load_boston\n",
        "from sklearn.model_selection import train_test_split\n",
        "import random\n",
        "import pickle"
      ]
    },
    {
      "cell_type": "code",
      "source": [
        "#References Used\n",
        "#https://towardsdatascience.com/https-medium-com-piotr-skalski92-deep-dive-into-deep-networks-math-17660bc376ba\n",
        "#https://towardsdatascience.com/lets-code-a-neural-network-in-plain-numpy-ae7e74410795\n",
        "#https://towardsdatascience.com/an-introduction-to-neural-networks-with-implementation-from-scratch-using-python-da4b6a45c05b\n",
        "#https://towardsdatascience.com/building-neural-network-from-scratch-9c88535bf8e9\n",
        "#https://dillhoffaj.utasites.cloud/posts/neural_networks/\n",
        "\n",
        "# This is the Layer class\n",
        "\n",
        "class Layer:\n",
        "\n",
        "  def initial_w_bias(self,nn):\n",
        "    param = {}\n",
        "    #creating the values for the w and bias matrix\n",
        "    for i in range(1,len(nn)):\n",
        "      param['w' + str(i)] = np.random.randn(nn[i], nn[i-1])*0.01\n",
        "      param['b' + str(i)] = np.random.randn(nn[i],1)*0.01\n",
        "    return param\n"
      ],
      "metadata": {
        "id": "GPAB9jOSp8Bc"
      },
      "execution_count": 81,
      "outputs": []
    },
    {
      "cell_type": "code",
      "source": [
        "#This is the class for the hyperbolic tangent functions\n",
        "\n",
        "#class htangent_activation(Layer):\n",
        "\n",
        "def tanh_forwardprop(z):\n",
        "  #2/(1 + e-2x) - 1\n",
        "  return (2/(1+np.exp(-2*z)) -1)\n",
        "\n",
        "def tanh_backprop(dA,z):\n",
        "  value = tanh_forwardprop(z)\n",
        "  return dA * value * (1-value)\n"
      ],
      "metadata": {
        "id": "LPpEYhXdqvWx"
      },
      "execution_count": 82,
      "outputs": []
    },
    {
      "cell_type": "code",
      "source": [
        "#This is the class for the sigmoid function\n",
        "\n",
        "#class sigmoid_activation(Layer):\n",
        "\n",
        "def sigmoid_forwardprop(Z):\n",
        "  return 1/(1+np.exp(-Z))\n",
        "  \n",
        "def sigmoid_backprop(dA,z):\n",
        "  value = sigmoid_forwardprop(z)\n",
        "  return dA * value * (1-value)"
      ],
      "metadata": {
        "id": "xqdDZRlrqx0c"
      },
      "execution_count": 83,
      "outputs": []
    },
    {
      "cell_type": "code",
      "source": [
        "#This is the class for the softmax function\n",
        "\n",
        "class softmax_activation(Layer):\n",
        "\n",
        "  def softmax_forwardprop(self,z):\n",
        "    return np.exp(z) / sum(np.exp(z))\n",
        "  \n",
        "\n",
        "  #derivative of softmax\n",
        "  def softmax_backprop(self,z):\n",
        "    exp=np.exp(z-z.max())\n",
        "    return exp/np.sum(exp,axis=0)*(1-exp/np.sum(exp,axis=0))\n",
        "    \n",
        "\n",
        "\n",
        "\n",
        "  \n",
        "  #Yet to edit this--- DONT FORGET+++++++++++++++++++++++++++++++++++++++++++++++++++++++++++++++++++\n",
        "  # def softmax_backprop(probs, bp_err):\n",
        "  #   dim = probs.shape[1]\n",
        "  #   output = np.empty(probs.shape)\n",
        "  #   for j in range(dim):\n",
        "  #       d_prob_over_xj = - (probs * probs[:,[j]])  # i.e. prob_k * prob_j, no matter k==j or not\n",
        "  #       d_prob_over_xj[:,j] += probs[:,j]   # i.e. when k==j, +prob_j\n",
        "  #       output[:,j] = np.sum(bp_err * d_prob_over_xj, axis=1)\n",
        "  #   return output\n",
        "  "
      ],
      "metadata": {
        "id": "EcSk6q_iq0LT"
      },
      "execution_count": 84,
      "outputs": []
    },
    {
      "cell_type": "code",
      "source": [
        "# This is the Linear layer class\n",
        "\n",
        "class LinearLayer(Layer):\n",
        "\n",
        "\n",
        "  def forward(self,data,param,flag):\n",
        "    \n",
        "    #Z_mat = np.dot(w,prev_out)\n",
        "    \n",
        "    layer_num = len(param)//2\n",
        "    #print(layer_num)\n",
        "    backup = {} # to store info required for the backward calculation\n",
        "\n",
        "    #traversing over the layers in the neural network\n",
        "    #this is the same steps that we used to assign the weights and bias for network\n",
        "    for i in range(1,layer_num+1):\n",
        "      #if it is the first iteration the input will be the input ie the train or the test data\n",
        "      w = param['w'+str(i)]\n",
        "      bias = param['b'+str(i)]\n",
        "      if i==1:\n",
        "        #Z_mat--> the input matrix calculation which will be passed in the activation function\n",
        "        backup['Z' + str(i)] = np.dot(w, data) + bias\n",
        "        if flag=='t':\n",
        "          backup['A' + str(i)] = tanh_forwardprop(backup['Z' + str(i)])\n",
        "        else:\n",
        "          backup['A' + str(i)] = sigmoid_forwardprop(backup['Z' + str(i)])\n",
        "\n",
        "      else:\n",
        "        backup['Z' + str(i)] = np.dot(w, backup['A' + str(i-1)]) + bias\n",
        "        if i==layer_num:\n",
        "          backup['A' + str(i)] = backup['Z' + str(i)]\n",
        "        else:\n",
        "          if flag=='t':\n",
        "            backup['A' + str(i)] = tanh_forwardprop(backup['Z' + str(i)])\n",
        "          else:\n",
        "            backup['A' + str(i)] = sigmoid_forwardprop(backup['Z' + str(i)])\n",
        "\n",
        "\n",
        "      #storing the values for backward pass call\n",
        "      #backup['Z' + str(i)] = Z_mat\n",
        "\n",
        "    \n",
        "    # for i in backup.keys():\n",
        "    #   print(i)\n",
        "    return backup\n",
        "  \n",
        "  def compute_loss(self,backup,target):\n",
        "    layer_num = len(backup)//2\n",
        "    y_pred = backup['A' + str(layer_num)]\n",
        "    loss = cost = 1/(2*len(target)) * np.sum(np.square(y_pred - target))\n",
        "    return loss\n",
        "  \n",
        "  def compute_loss_backward(self,backup,target): # target--> Z_mat value , backup--> dict values\n",
        "    layer_num = len(backup)//2\n",
        "    loss=0\n",
        "    y_pred = backup['A' + str(layer_num)]\n",
        "    for i in range(len(target)):\n",
        "      loss+= (target[i] - y_pred[0][i])/len(target)\n",
        "    return loss\n",
        "  \n",
        "  def backward(self,data,target,param,backup,loss):\n",
        "    deriv_values= {}  #dictionary to store the derivative values\n",
        "    layer_num = len(param)//2\n",
        "    n = len(target)\n",
        "     #since we need to go backward in backward propagation\n",
        "    for i in range(layer_num,0,-1):\n",
        "\n",
        "      # print(i)\n",
        "      # print(backup['A'+str(i)])\n",
        "      A_previous = backup['A'+str(i)]\n",
        "      z_current = backup['Z'+str(i)]\n",
        "      w = param['w'+str(i)]\n",
        "      bias = param['b'+str(i)]\n",
        "\n",
        "      if i == layer_num:\n",
        "        dA_current = 1/n * (A_previous - target)\n",
        "        dz = dA_current\n",
        "      else:\n",
        "        dA_current = np.dot(param['w' + str(i+1)].T, dz)\n",
        "        dz = np.multiply(dA_current, np.where(A_previous>=0, 1, 0)) #original one\n",
        "        #dz = np.multiply(loss, np.where(A_previous>=0, 1, 0))\n",
        "\n",
        "      #backward tanh\n",
        "      #dA_current = tanh_backprop(dA_current,z_current)\n",
        "      \n",
        "      if i==1:\n",
        "        #dw = 1/n * np.dot(dz, data.T)\n",
        "        dw = 1/n * np.dot(dz, data)\n",
        "        dbias = 1/n * np.sum(dz, axis=1, keepdims=True)\n",
        "      else:\n",
        "        dw = 1/n * np.dot(dz,backup['A' + str(i-1)].T)\n",
        "        dbias = 1/n * np.sum(dz, axis=1, keepdims=True)\n",
        "      \n",
        "      \n",
        "      deriv_values['dw' + str(i)] = dw\n",
        "      deriv_values['db' + str(i)] = dbias\n",
        "\n",
        "    # for i in deriv_values.keys():\n",
        "    #   print(i)\n",
        "    return deriv_values\n",
        "  \n",
        "  def update_param(self,param,deriv_values,alpha):\n",
        "    layer_num = len(param)//2\n",
        "    updated_param = {}\n",
        "    for i in range(1,layer_num+1):\n",
        "      updated_param['w'+str(i)] = param['w' + str(i)] - alpha * deriv_values['dw' + str(i)]\n",
        "      updated_param['b'+str(i)] = param['b' + str(i)] - alpha * deriv_values['db' + str(i)]\n",
        "    return updated_param\n",
        "\n",
        "\n",
        "\n"
      ],
      "metadata": {
        "id": "pi04VShKrvxh"
      },
      "execution_count": 85,
      "outputs": []
    },
    {
      "cell_type": "code",
      "source": [
        "# This is the class for entropy loss\n",
        "\n",
        "class entropy_loss(LinearLayer):\n",
        "\n",
        "  def cross_entropy_forward(self,y_pred,y):\n",
        "    return -y * np.log(y_pred)\n",
        "  \n",
        "  def cross_entropy_backward(self,y_pred,y):\n",
        "    return y-y_pred\n"
      ],
      "metadata": {
        "id": "aq7aAweb3hMI"
      },
      "execution_count": 86,
      "outputs": []
    },
    {
      "cell_type": "code",
      "source": [
        "#This part of the code is for sequential class\n",
        "\n",
        "class Sequential(LinearLayer):\n",
        "\n",
        "  def train(self,data,target,nn,steps,alpha,modelname,flag='t'):\n",
        "    param = self.initial_w_bias(nn)\n",
        "    epoch_arr =[]\n",
        "    loss_arr =[]\n",
        "    \n",
        "    for i in range(steps):\n",
        "      backup = self.forward(data.T, param,flag)\n",
        "      loss = self.compute_loss(backup,target.T)   #original one\n",
        "      #loss = self.compute_loss_backward(backup,target)\n",
        "      deriv_values = self.backward(data,target,param,backup,loss)\n",
        "      param = self.update_param(param,deriv_values,alpha)\n",
        "      loss_arr.append(loss)\n",
        "      epoch_arr.append(i+1)\n",
        "      \n",
        "      #print('Iteration ' + str(i+1) + ' , Loss = ' + str(loss) + '\\n')\n",
        "    \n",
        "    # To plot the loss vs epoch\n",
        "    fig = plt.figure(figsize=[6,10])\n",
        "    ax = fig.add_subplot(1,1, 1)\n",
        "    ax.plot(epoch_arr,loss_arr, color='b', linestyle=\"-\")\n",
        "    ax.set_title(modelname)\n",
        "    ax.set_xlabel('number of Epochs')\n",
        "    ax.set_ylabel('Loss value')\n",
        "    return param\n",
        "  \n",
        "  \n",
        "  \n",
        "  def accuracy_calc(self,x_train,x_test,y_train,y_test,param,nn):\n",
        "    backup_test = self.forward(x_test.T,param)\n",
        "    backup_train = self.forward(x_train.T,param)\n",
        "    accuracy_train = np.sqrt(mean_squared_error(y_train, backup_train['A' + str(len(nn)-1)].T))\n",
        "    test_acc = np.sqrt(mean_squared_error(y_test, backup_test['A' + str(len(nn)-1)].T))\n",
        "  \n",
        "  def predict(self,data,param,flag='t'):\n",
        "    backup = self.forward(data.T,param,flag)\n",
        "    pred = backup['A' + str(len(backup)//2)].T\n",
        "    return pred\n"
      ],
      "metadata": {
        "id": "huOAeZ3D3mvU"
      },
      "execution_count": 87,
      "outputs": []
    },
    {
      "cell_type": "code",
      "source": [
        "data = np.array([[0, 0],\n",
        "                    [0, 1],\n",
        "                    [1, 0],\n",
        "                    [1, 1]])\n",
        "target = np.array([0, 1, 1, 0])\n",
        "#target = np.array(([0],[1],[1],[0]))"
      ],
      "metadata": {
        "id": "mzdPGK8RE5p-"
      },
      "execution_count": 88,
      "outputs": []
    },
    {
      "cell_type": "code",
      "source": [
        "# data = np.array([[[0,0]], [[0,1]], [[1,0]], [[1,1]]])\n",
        "# target = np.array([[[0]], [[1]], [[1]], [[0]]])"
      ],
      "metadata": {
        "id": "4tFc2s37Sdz2"
      },
      "execution_count": 89,
      "outputs": []
    },
    {
      "cell_type": "code",
      "source": [
        "#training part\n",
        "net = Sequential()\n",
        "layers = [2,2,2,1]                                                        \n",
        "steps = 5000                                                                 \n",
        "alpha = 0.001                                                        \n",
        "param = net.train(data, target, layers, steps, alpha,'XOR model','s')          \n",
        "# train_acc, test_acc = accuracy_calc(X_train, X_test, Y_train, Y_test, params)  \n",
        "# print('Root Mean Squared Error on Training Data = ' + str(train_acc))\n",
        "# print('Root Mean Squared Error on Test Data = ' + str(test_acc))\n",
        "\n",
        "#predict part\n",
        "y_pred = net.predict(data,param,'s')\n",
        "print(y_pred)\n"
      ],
      "metadata": {
        "colab": {
          "base_uri": "https://localhost:8080/",
          "height": 690
        },
        "id": "wzR2ft6gEXp9",
        "outputId": "81071df1-1faf-41ba-e6f3-12eca4ef4a74"
      },
      "execution_count": 90,
      "outputs": [
        {
          "output_type": "stream",
          "name": "stdout",
          "text": [
            "[[0.42692029]\n",
            " [0.42692352]\n",
            " [0.42691633]\n",
            " [0.42691956]]\n"
          ]
        },
        {
          "output_type": "display_data",
          "data": {
            "text/plain": [
              "<Figure size 432x720 with 1 Axes>"
            ],
            "image/png": "[encoded data removed]"
          },
          "metadata": {
            "needs_background": "light"
          }
        }
      ]
    },
    {
      "cell_type": "markdown",
      "source": [
        "# MNIST dataset"
      ],
      "metadata": {
        "id": "rm5dr-ztEcbx"
      }
    },
    {
      "cell_type": "code",
      "source": [
        "#MNIST dataset\n",
        "from keras.datasets import mnist\n",
        "from keras.utils import np_utils\n",
        "\n",
        "(x_train, y_train), (x_test, y_test) = mnist.load_data()\n",
        "#reshape the input data\n",
        "x_train = x_train.reshape(x_train.shape[0], 28*28)\n",
        "#normalizing the input data\n",
        "x_train = x_train.astype('float32')\n",
        "x_train /= 255\n",
        "aay_train = np_utils.to_categorical(y_train)\n",
        "\n",
        "# same for test data\n",
        "x_test = x_test.reshape(x_test.shape[0],28*28)\n",
        "x_test = x_test.astype('float32')\n",
        "x_test /= 255\n",
        "y_test = np_utils.to_categorical(y_test)\n"
      ],
      "metadata": {
        "id": "tD5FdYbnspJM"
      },
      "execution_count": 91,
      "outputs": []
    },
    {
      "cell_type": "code",
      "source": [
        "# #normalize x\n",
        "# x_train = x_train.astype(float)/255.\n",
        "# x_test = x_test.astype(float)/255.\n",
        "\n",
        "# #creating a validation set for 10% dataset(10000 training examples)\n",
        "# x_train,x_validation = x_train[:-10000], x_train[-10000:]\n",
        "# y_train,y_validation = y_train[:-10000], y_train[-10000:]\n",
        "\n",
        "# #flattening and reshaping\n",
        "# x_train = x_train.reshape([x_train.shape[0], -1])\n",
        "# x_val = x_validation.reshape([x_validation.shape[0], -1])\n",
        "# x_test = x_test.reshape([x_test.shape[0], -1])"
      ],
      "metadata": {
        "id": "7vgxM8YmEfeb"
      },
      "execution_count": 92,
      "outputs": []
    },
    {
      "cell_type": "code",
      "source": [
        "# To check some examples of how the input data looks\n",
        "# plt.figure(figsize=[7,7])\n",
        "# for i in range(4):\n",
        "#     plt.subplot(2,2,i+1)\n",
        "#     i=random.randint(1, 9)\n",
        "#     print(y_train[i])\n",
        "#     plt.title(\"Value: %i\"%y_train[i])\n",
        "#     plt.imshow(x_train[i].reshape([28,28]),cmap='gray');"
      ],
      "metadata": {
        "id": "tiDAeoLFDd2D"
      },
      "execution_count": 93,
      "outputs": []
    },
    {
      "cell_type": "code",
      "source": [
        "#changing to categorical form\n",
        "# y_train = np_utils.to_categorical(y_train)\n",
        "# y_test = np_utils.to_categorical(y_test)\n"
      ],
      "metadata": {
        "id": "gTUEkLe5JQqy"
      },
      "execution_count": 94,
      "outputs": []
    },
    {
      "cell_type": "code",
      "source": [
        "# creating the neural net for the mnist dataset and creating objects to use\n",
        "mnist_nn = [(28*28),100,100,50,50,10]\n",
        "mnist_net = Sequential()\n",
        "#def train(self,data,target,nn,steps,alpha): \n",
        "param = mnist_net.train(x_train[0:1000], y_train[0:1000].T,mnist_nn, 1000, 0.001,'MNIST model original')\n",
        "\n"
      ],
      "metadata": {
        "id": "4gQ4Br5kDI5G",
        "colab": {
          "base_uri": "https://localhost:8080/",
          "height": 621
        },
        "outputId": "bf5ad30a-c0d3-4d98-ca30-71564bc19c97"
      },
      "execution_count": 95,
      "outputs": [
        {
          "output_type": "display_data",
          "data": {
            "text/plain": [
              "<Figure size 432x720 with 1 Axes>"
            ],
            "image/png": "[encoded data removed]"
          },
          "metadata": {
            "needs_background": "light"
          }
        }
      ]
    },
    {
      "cell_type": "code",
      "source": [
        "#saving the the neural network size and parameteres using pickle function\n",
        "with open('XOR_solved.w', 'wb') as files:\n",
        "  pickle.dump(mnist_nn, files) #the neural network size is in the form of list that has each input and output size\n",
        "  pickle.dump(param, files) # the dictionary variable that has the weights and bias for the network"
      ],
      "metadata": {
        "id": "g9eaPz8ZkazH"
      },
      "execution_count": 96,
      "outputs": []
    },
    {
      "cell_type": "code",
      "source": [
        "samples = 10\n",
        "for test, true in zip(x_test[:samples], y_test[:samples]):\n",
        "    image = np.reshape(test, (28, 28))\n",
        "    #plt.imshow(image, cmap='binary')\n",
        "    #plt.show()\n",
        "    pred = mnist_net.predict(test,param)\n",
        "    #print(pred)\n",
        "    num = np.argmax(pred)\n",
        "    num_true = np.argmax(true)\n",
        "    print('Num',str(num)[0])\n",
        "    print('Num_true',num_true)\n"
      ],
      "metadata": {
        "id": "ftEe4HmbDGHb",
        "colab": {
          "base_uri": "https://localhost:8080/"
        },
        "outputId": "b3211351-2138-42c3-dc93-84b408b36b38"
      },
      "execution_count": 97,
      "outputs": [
        {
          "output_type": "stream",
          "name": "stdout",
          "text": [
            "Num 1\n",
            "Num_true 7\n",
            "Num 7\n",
            "Num_true 2\n",
            "Num 3\n",
            "Num_true 1\n",
            "Num 4\n",
            "Num_true 0\n",
            "Num 2\n",
            "Num_true 4\n",
            "Num 6\n",
            "Num_true 1\n",
            "Num 8\n",
            "Num_true 4\n",
            "Num 8\n",
            "Num_true 9\n",
            "Num 8\n",
            "Num_true 5\n",
            "Num 8\n",
            "Num_true 9\n"
          ]
        }
      ]
    },
    {
      "cell_type": "markdown",
      "source": [
        "# Experiment with at least 3 configurations of hyperparameters."
      ],
      "metadata": {
        "id": "Y3eHdaXeyRyk"
      }
    },
    {
      "cell_type": "code",
      "source": [
        "#for this section , I will be changing the three parameters and observer the output\n",
        "# Model 1 --> Changing the number of nodes in layers --> I will be changing this [(28*28),100,100,50,50,10] to [(28*28),30,30,50,50,10]\n",
        "# Model 2 --> Changing the learning parameter to 0.9\n",
        "# Model 3 --> Changing the activation in every layer to sigmoid activation\n",
        "#Lets see the output for these three changes\n",
        "\n",
        "#Model 1--> configuration\n",
        "mnist_nn_1 = [(28*28),30,30,50,50,10]\n",
        "mnist_net_1 = Sequential() \n",
        "param = mnist_net_1.train(x_train[0:1000], y_train[0:1000].T,mnist_nn_1, 1000, 0.001,'MNIST model 1')\n",
        "\n",
        "print(\"=======================================This is for Model 1==========================================\")\n",
        "samples = 10\n",
        "for test, true in zip(x_test[:samples], y_test[:samples]):\n",
        "    image = np.reshape(test, (28, 28))\n",
        "    #plt.imshow(image, cmap='binary')\n",
        "    #plt.show()\n",
        "    pred = mnist_net_1.predict(test,param)\n",
        "    #print(pred)\n",
        "    num = np.argmax(pred)\n",
        "    num_true = np.argmax(true)\n",
        "    print('Num',str(num)[0])\n",
        "    print('Num_true',num_true)\n"
      ],
      "metadata": {
        "colab": {
          "base_uri": "https://localhost:8080/",
          "height": 986
        },
        "id": "0bM7iPbUsb_n",
        "outputId": "1fa9061e-030f-4a7a-e94e-e3cfe8792283"
      },
      "execution_count": 98,
      "outputs": [
        {
          "output_type": "stream",
          "name": "stdout",
          "text": [
            "=======================================This is for Model 1==========================================\n",
            "Num 1\n",
            "Num_true 7\n",
            "Num 8\n",
            "Num_true 2\n",
            "Num 1\n",
            "Num_true 1\n",
            "Num 1\n",
            "Num_true 0\n",
            "Num 1\n",
            "Num_true 4\n",
            "Num 1\n",
            "Num_true 1\n",
            "Num 1\n",
            "Num_true 4\n",
            "Num 1\n",
            "Num_true 9\n",
            "Num 1\n",
            "Num_true 5\n",
            "Num 1\n",
            "Num_true 9\n"
          ]
        },
        {
          "output_type": "display_data",
          "data": {
            "text/plain": [
              "<Figure size 432x720 with 1 Axes>"
            ],
            "image/png": "[encoded data removed]"
          },
          "metadata": {
            "needs_background": "light"
          }
        }
      ]
    },
    {
      "cell_type": "code",
      "source": [
        "#Model 2--> configuration\n",
        "mnist_nn_2 = [(28*28),100,100,50,50,10]\n",
        "mnist_net_2 = Sequential() \n",
        "param = mnist_net_2.train(x_train[0:1000], y_train[0:1000].T,mnist_nn_2, 1000, 0.9,'MNIST model 2')\n",
        "\n",
        "print(\"=======================================This is for Model 2==========================================\")\n",
        "samples = 10\n",
        "for test, true in zip(x_test[:samples], y_test[:samples]):\n",
        "    image = np.reshape(test, (28, 28))\n",
        "    #plt.imshow(image, cmap='binary')\n",
        "    #plt.show()\n",
        "    pred = mnist_net_2.predict(test,param)\n",
        "    #print(pred)\n",
        "    num = np.argmax(pred)\n",
        "    num_true = np.argmax(true)\n",
        "    print('Num',str(num)[0])\n",
        "    print('Num_true',num_true)\n"
      ],
      "metadata": {
        "colab": {
          "base_uri": "https://localhost:8080/",
          "height": 986
        },
        "id": "SxApzWqQuacn",
        "outputId": "0272da44-b3a1-49b8-dbb5-8de675dd5aa1"
      },
      "execution_count": 99,
      "outputs": [
        {
          "output_type": "stream",
          "name": "stdout",
          "text": [
            "=======================================This is for Model 2==========================================\n",
            "Num 9\n",
            "Num_true 7\n",
            "Num 5\n",
            "Num_true 2\n",
            "Num 8\n",
            "Num_true 1\n",
            "Num 1\n",
            "Num_true 0\n",
            "Num 2\n",
            "Num_true 4\n",
            "Num 8\n",
            "Num_true 1\n",
            "Num 7\n",
            "Num_true 4\n",
            "Num 4\n",
            "Num_true 9\n",
            "Num 5\n",
            "Num_true 5\n",
            "Num 9\n",
            "Num_true 9\n"
          ]
        },
        {
          "output_type": "display_data",
          "data": {
            "text/plain": [
              "<Figure size 432x720 with 1 Axes>"
            ],
            "image/png": "[encoded data removed]"
          },
          "metadata": {
            "needs_background": "light"
          }
        }
      ]
    },
    {
      "cell_type": "code",
      "source": [
        "#Model 3--> configuration\n",
        "mnist_nn_3 = [(28*28),100,100,50,50,10]\n",
        "mnist_net_3 = Sequential() \n",
        "param = mnist_net_3.train(x_train[0:1000], y_train[0:1000].T,mnist_nn_3, 1000, 0.001,'MNIST model 3','s') # this flag 's' will change all the activation to sigmoid activation\n",
        "\n",
        "samples = 10\n",
        "print(\"=======================================This is for Model 3==========================================\")\n",
        "for test, true in zip(x_test[:samples], y_test[:samples]):\n",
        "    image = np.reshape(test, (28, 28))\n",
        "    #plt.imshow(image, cmap='binary')\n",
        "    #plt.show()\n",
        "    pred = mnist_net_3.predict(test,param)\n",
        "    #print(pred)\n",
        "    num = np.argmax(pred)\n",
        "    num_true = np.argmax(true)\n",
        "    print('Num',str(num)[0])\n",
        "    print('Num_true',num_true)"
      ],
      "metadata": {
        "colab": {
          "base_uri": "https://localhost:8080/",
          "height": 986
        },
        "id": "iTG1OzzjyMSU",
        "outputId": "89cdc5b3-dc0c-4a87-f7d1-8ea42a0d7ee1"
      },
      "execution_count": 100,
      "outputs": [
        {
          "output_type": "stream",
          "name": "stdout",
          "text": [
            "=======================================This is for Model 3==========================================\n",
            "Num 3\n",
            "Num_true 7\n",
            "Num 4\n",
            "Num_true 2\n",
            "Num 7\n",
            "Num_true 1\n",
            "Num 6\n",
            "Num_true 0\n",
            "Num 7\n",
            "Num_true 4\n",
            "Num 7\n",
            "Num_true 1\n",
            "Num 8\n",
            "Num_true 4\n",
            "Num 3\n",
            "Num_true 9\n",
            "Num 6\n",
            "Num_true 5\n",
            "Num 2\n",
            "Num_true 9\n"
          ]
        },
        {
          "output_type": "display_data",
          "data": {
            "text/plain": [
              "<Figure size 432x720 with 1 Axes>"
            ],
            "image/png": "[encoded data removed]"
          },
          "metadata": {
            "needs_background": "light"
          }
        }
      ]
    },
    {
      "cell_type": "markdown",
      "source": [
        "# Playing with Hyperparameters"
      ],
      "metadata": {
        "id": "dLrSEhyN6sNl"
      }
    },
    {
      "cell_type": "code",
      "source": [
        "#Train on MNIST using a learning rate of 1 and then again with a learning rate of 0.001. Plot the training loss curve in both instances.\n",
        "\n",
        "###############learning rate --> 1\n",
        "\n",
        "#Model model learning rate 1--> configuration\n",
        "mnist_nn_lr1 = [(28*28),100,100,50,50,10]\n",
        "mnist_net_lr1 = Sequential() \n",
        "param = mnist_net_lr1.train(x_train[0:1000], y_train[0:1000].T,mnist_nn_lr1, 1000, 1,'MNIST model learning rate 1')\n",
        "\n",
        "print(\"=======================================This is for MNIST model learning rate 1==========================================\")\n",
        "samples = 10\n",
        "for test, true in zip(x_test[:samples], y_test[:samples]):\n",
        "    image = np.reshape(test, (28, 28))\n",
        "    #plt.imshow(image, cmap='binary')\n",
        "    #plt.show()\n",
        "    pred = mnist_net_lr1.predict(test,param)\n",
        "    #print(pred)\n",
        "    num = np.argmax(pred)\n",
        "    num_true = np.argmax(true)\n",
        "    print('Num',str(num)[0])\n",
        "    print('Num_true',num_true)\n",
        "\n",
        "######################learning rate --> 0.001\n",
        "\n",
        "#Model model learning rate  0.001 --> configuration\n",
        "mnist_nn_lr2 = [(28*28),100,100,50,50,10]\n",
        "mnist_net_lr2 = Sequential() \n",
        "param = mnist_net_lr2.train(x_train[0:1000], y_train[0:1000].T,mnist_nn_lr2, 1000, 0.001,'MNIST model learning rate 0.001')\n",
        "\n",
        "print(\"=======================================This is for MNIST model learning rate 0.001 ==========================================\")\n",
        "samples = 10\n",
        "for test, true in zip(x_test[:samples], y_test[:samples]):\n",
        "    image = np.reshape(test, (28, 28))\n",
        "    #plt.imshow(image, cmap='binary')\n",
        "    #plt.show()\n",
        "    pred = mnist_net_lr2.predict(test,param)\n",
        "    #print(pred)\n",
        "    num = np.argmax(pred)\n",
        "    num_true = np.argmax(true)\n",
        "    print('Num',str(num)[0])\n",
        "    print('Num_true',num_true)\n",
        "\n"
      ],
      "metadata": {
        "colab": {
          "base_uri": "https://localhost:8080/",
          "height": 1000
        },
        "id": "1oWh8h-Q6vbR",
        "outputId": "e34db470-c115-4809-d1e5-f6678725a16b"
      },
      "execution_count": 101,
      "outputs": [
        {
          "output_type": "stream",
          "name": "stderr",
          "text": [
            "/usr/local/lib/python3.7/dist-packages/ipykernel_launcher.py:7: RuntimeWarning: overflow encountered in exp\n",
            "  import sys\n"
          ]
        },
        {
          "output_type": "stream",
          "name": "stdout",
          "text": [
            "=======================================This is for MNIST model learning rate 1==========================================\n",
            "Num 2\n",
            "Num_true 7\n",
            "Num 9\n",
            "Num_true 2\n",
            "Num 1\n",
            "Num_true 1\n",
            "Num 7\n",
            "Num_true 0\n",
            "Num 2\n",
            "Num_true 4\n",
            "Num 1\n",
            "Num_true 1\n",
            "Num 4\n",
            "Num_true 4\n",
            "Num 7\n",
            "Num_true 9\n",
            "Num 9\n",
            "Num_true 5\n",
            "Num 2\n",
            "Num_true 9\n",
            "=======================================This is for MNIST model learning rate 0.001 ==========================================\n",
            "Num 3\n",
            "Num_true 7\n",
            "Num 9\n",
            "Num_true 2\n",
            "Num 8\n",
            "Num_true 1\n",
            "Num 1\n",
            "Num_true 0\n",
            "Num 8\n",
            "Num_true 4\n",
            "Num 8\n",
            "Num_true 1\n",
            "Num 9\n",
            "Num_true 4\n",
            "Num 8\n",
            "Num_true 9\n",
            "Num 3\n",
            "Num_true 5\n",
            "Num 9\n",
            "Num_true 9\n"
          ]
        },
        {
          "output_type": "display_data",
          "data": {
            "text/plain": [
              "<Figure size 432x720 with 1 Axes>"
            ],
            "image/png": "[encoded data removed]"
          },
          "metadata": {
            "needs_background": "light"
          }
        },
        {
          "output_type": "display_data",
          "data": {
            "text/plain": [
              "<Figure size 432x720 with 1 Axes>"
            ],
            "image/png": "[encoded data removed]"
          },
          "metadata": {
            "needs_background": "light"
          }
        }
      ]
    }
  ]
}