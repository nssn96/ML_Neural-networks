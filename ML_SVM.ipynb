{
  "nbformat": 4,
  "nbformat_minor": 0,
  "metadata": {
    "colab": {
      "name": "ML_SVM.ipynb",
      "provenance": [],
      "authorship_tag": "ABX9TyPe1y59ExlEOWqa8CZWCyOL",
      "include_colab_link": true
    },
    "kernelspec": {
      "name": "python3",
      "display_name": "Python 3"
    },
    "language_info": {
      "name": "python"
    }
  },
  "cells": [
    {
      "cell_type": "markdown",
      "metadata": {
        "id": "view-in-github",
        "colab_type": "text"
      },
      "source": [
        "<a href=\"https://colab.research.google.com/github/nssn96/ML_Neural-networks/blob/main/ML_SVM.ipynb\" target=\"_parent\"><img src=\"https://colab.research.google.com/assets/colab-badge.svg\" alt=\"Open In Colab\"/></a>"
      ]
    },
    {
      "cell_type": "markdown",
      "source": [
        "# ML Assignment 3 - Support Vector Machines\n",
        "\n",
        "\n",
        "1.   Author : Surya Narayanan Nadhamuni Suresh\n",
        "2.   UTA ID : 1001877873\n"
      ],
      "metadata": {
        "id": "rDaLdaguvYZZ"
      }
    },
    {
      "cell_type": "code",
      "execution_count": 10,
      "metadata": {
        "id": "5HBzGfkbvU-D"
      },
      "outputs": [],
      "source": [
        "#import lines\n",
        "import numpy as np\n",
        "import pandas as pd\n",
        "import matplotlib.pyplot as plt\n",
        "from sklearn.metrics import mean_squared_error\n",
        "from sklearn.datasets import load_boston\n",
        "from sklearn.model_selection import train_test_split\n",
        "import random\n",
        "import pickle\n",
        "import numpy as np\n",
        "import matplotlib.pyplot as plt\n",
        "from mlxtend.plotting.decision_regions import plot_decision_regions\n",
        "# %matplotlib widget"
      ]
    },
    {
      "cell_type": "code",
      "source": [
        "#References Used\n"
      ],
      "metadata": {
        "id": "BZ6CU2RBvphQ"
      },
      "execution_count": 11,
      "outputs": []
    },
    {
      "cell_type": "markdown",
      "source": [
        "class for SVM\n"
      ],
      "metadata": {
        "id": "juuTtvFgarcy"
      }
    },
    {
      "cell_type": "code",
      "source": [
        "def linear_kernel(x1, x2):\n",
        "    return x1.T @ x2\n",
        "\n",
        "\n",
        "class svm():\n",
        "    def __init__(self, kernel='linear', c=1.0, tol=1e-3, maxiter=1000):\n",
        "        self._kernel = kernel\n",
        "        self._tol = tol\n",
        "        self._maxiter = maxiter\n",
        "        \n",
        "        if self._kernel == 'linear':\n",
        "            self._k = linear_kernel\n",
        "        \n",
        "        self._c = c\n",
        "        \n",
        "    def _init_params(self):\n",
        "        self._error_cache = np.zeros(self._data.shape[0])\n",
        "        self._alphas = np.ones(self._data.shape[0]) * .1\n",
        "        self._b = 0\n",
        "        \n",
        "        if self._kernel == 'linear':\n",
        "            self._weights = np.random.rand(self._data.shape[1])\n",
        "\n",
        "    def predict_score(self, x):\n",
        "        \"\"\"Predicts a raw score (not classification)\n",
        "        \n",
        "        Arguments\n",
        "            x, array (batch_size, n_features) - input samples.\n",
        "        \"\"\"\n",
        "        u = 0\n",
        "        if self._kernel == 'linear':\n",
        "            u = self._weights @ x.T - self._b\n",
        "        else:\n",
        "            for i in range(self._data.shape[0]):\n",
        "                u += self._targets[i] * self._alphas[i] * self._k(self._data[i], x) - self._b\n",
        "\n",
        "        return u\n",
        "        \n",
        "    def predict(self, x):\n",
        "        \"\"\"Classifies input samples.\n",
        "        \n",
        "        Arguments\n",
        "            x, array (batch_size, n_features) - input samples.\n",
        "        \"\"\"\n",
        "        score = self.predict_score(x)\n",
        "\n",
        "        if type(score) is np.ndarray:\n",
        "            score[score < 0] = -1\n",
        "            score[score >= 0] = 1\n",
        "\n",
        "            return score\n",
        "        else:\n",
        "            return -1 if score < 0 else 1\n",
        "\n",
        "    def smo_step(self, i1, i2):\n",
        "        if i1 == i2:\n",
        "            return 0\n",
        "\n",
        "        x1 = self._data[i1]\n",
        "        x2 = self._data[i2]\n",
        "        y1 = self._targets[i1]\n",
        "        y2 = self._targets[i2]\n",
        "        alpha1 = self._alphas[i1]\n",
        "        alpha2 = self._alphas[i2]\n",
        "\n",
        "        # Compute errors for x1 and x2\n",
        "        e1 = self.predict_score(x1) - y1\n",
        "        e2 = self.predict_score(x2) - y2\n",
        "\n",
        "        s = y1 * y2\n",
        "\n",
        "        if s == 1:\n",
        "            L = max(0, alpha2 + alpha1 - self._c)\n",
        "            H = min(self._c, alpha2 + alpha1)\n",
        "        else:\n",
        "            L = max(0, alpha2 - alpha1)\n",
        "            H = min(self._c, self._c + alpha2 - alpha1)\n",
        "\n",
        "        if L == H:\n",
        "            return 0\n",
        "\n",
        "        k11 = self._k(x1, x1)\n",
        "        k22 = self._k(x2, x2)\n",
        "        k12 = self._k(x1, x2)\n",
        "\n",
        "        eta = k11 + k22 - 2 * k12\n",
        "\n",
        "        if eta > 0:\n",
        "            a2 = alpha2 + y2 * (e1 - e2) / eta\n",
        "            if a2 <= L:\n",
        "                a2 = L\n",
        "            elif a2 >= H:\n",
        "                a2 = H\n",
        "        #The negative case for eta\n",
        "        elif eta<0:\n",
        "          f1=(y1*(e1+self._b))-(alpha1*k11)-(s*alpha2*k12)\n",
        "          f2=(y2*(e2+self._b))-(s*(alpha1*k12))-(alpha2*k22)\n",
        "          L1=alpha1+(s*(alpha2-L))\n",
        "          H1=alpha1+(s*(alpha2-H))\n",
        "          Lobj=(L1*f1)+(L*f2)+(0.5*(L1*2)*k11)+(0.5(L**2)*k22)+(s*L*L1*k12)\n",
        "          Hobj=(H1*f1)+(H*f2)+(0.5*(H1*2)*k11)+(0.5(H**2)*k22)+(s*H*H1*k12)\n",
        "          if(Lobj<(Hobj-1e-3)):\n",
        "            a2=L\n",
        "          elif(Lobj>(Hobj+1e-3)):\n",
        "            a2=H\n",
        "          else:\n",
        "            a2=alpha2\n",
        "\n",
        "        else:\n",
        "            print(f\"[DEBUG] smo_step: eta = {eta}\")\n",
        "            \n",
        "        if np.abs(a2 - alpha2) < 1e-3 * (a2 + alpha2 + 1e-3):\n",
        "            return 0\n",
        "\n",
        "        a1 = alpha1 + s * (alpha2 - a2)\n",
        "\n",
        "        # Update threshold to reflect change in Lagrange multipliers\n",
        "        b1 = e1 + y1 * (a1 - alpha1) * k11 + y2 * (a2 - alpha2) * k12 + self._b\n",
        "        b2 = e2 + y1 * (a1 - alpha1) * k12 + y2 * (a2 - alpha2) * k22 + self._b\n",
        "        self._b = (b1 + b2) / 2\n",
        "\n",
        "        # Update weight vector to reflect change in a1 & a2, if SVM is linear\n",
        "        if self._kernel == 'linear':\n",
        "            self._weights = np.sum((self._targets * self._alphas)[:, None] * self._data, axis=0)\n",
        "        \n",
        "        # Store a1 and a2 in alpha array\n",
        "        self._alphas[i1] = a1\n",
        "        self._alphas[i2] = a2\n",
        "\n",
        "        # update error cache using new multipliers\n",
        "        for i in range (self._data.shape[0]):\n",
        "            self._error_cache[i] = self.predict_score(self._data[i]) - self._targets[i]\n",
        "\n",
        "        return 1\n",
        "\n",
        "    def examine(self, i2):\n",
        "        x2 = self._data[i2]\n",
        "        y2 = self._targets[i2]\n",
        "        alpha2 = self._alphas[i2]\n",
        "        e2 = self.predict_score(x2) - y2\n",
        "        r2 = e2 * y2\n",
        "\n",
        "        # Heuristic for picking the first multiplier\n",
        "        if (r2 < -self._tol and alpha2 < self._c) or (r2 > self._tol and alpha2 > 0):\n",
        "            f_idxs = np.where((self._alphas != 0) & (self._alphas != self._c))[0]\n",
        "\n",
        "            if len(f_idxs) > 1:\n",
        "                # Hueristic for second multiplier: get i1 with lowest absolute error |e1 - e2|\n",
        "\n",
        "                # TODO: Clean this up\n",
        "                if e2 > 0:\n",
        "                    min_error = 999999\n",
        "                    for i, v in enumerate(f_idxs):\n",
        "                        if v == i2:\n",
        "                            continue\n",
        "\n",
        "                        if self._error_cache[v] == 0:\n",
        "                            self._error_cache[v] = self.predict_score(self._data[v]) - self._targets[v]\n",
        "                        error = np.abs(e2 - self._error_cache[v])\n",
        "\n",
        "                        if error < min_error:\n",
        "                            min_error = error\n",
        "                            i1 = v\n",
        "                else:\n",
        "                    max_error = -999999\n",
        "                    for i, v in enumerate(f_idxs):\n",
        "                        if v == i2:\n",
        "                            continue\n",
        "\n",
        "                        if self._error_cache[v] == 0:\n",
        "                            self._error_cache[v] = self.predict_score(self._data[v]) - self._targets[v]\n",
        "                        error = np.abs(e2 - self._error_cache[v])\n",
        "\n",
        "                        if error > max_error:\n",
        "                            max_error = error\n",
        "                            i1 = v\n",
        "\n",
        "                if self.smo_step(i1, i2):\n",
        "                    return 1\n",
        "                \n",
        "                # Loop over all non-zero and non-C alpha, starting at random point\n",
        "                for i, v in enumerate(np.random.permutation(f_idxs)):\n",
        "                    if self.smo_step(v, i2):\n",
        "                        return 1\n",
        "                \n",
        "                # Loop over all possible i1, starting at a random point\n",
        "                for i in range(self._data.shape[0]):\n",
        "                    if i == i2:\n",
        "                        continue\n",
        "                    if self.smo_step(i, i2):\n",
        "                        return 1\n",
        "                \n",
        "        return 0\n",
        "    \n",
        "    def fit(self, data, targets):\n",
        "        self._data = data\n",
        "        self._targets = targets\n",
        "        \n",
        "        self._init_params()\n",
        "        \n",
        "        n_changed = 0\n",
        "        examine_all = True\n",
        "        n_iter = 0\n",
        "        \n",
        "        while (n_changed > 0 or examine_all is True) and n_iter < self._maxiter:\n",
        "            n_changed = 0\n",
        "            n_iter += 1\n",
        "            \n",
        "            if examine_all is True:\n",
        "                # loop over all training examples\n",
        "                for i in range(data.shape[0]):\n",
        "                    n_changed += self.examine(i)\n",
        "            else:\n",
        "                # loop over examples where alpha is not 0 & not C\n",
        "                f_idxs = np.where((self._alphas != 0) & (self._alphas != self._c))[0]\n",
        "                for i, v in enumerate(f_idxs):\n",
        "                    n_changed += self.examine(v)\n",
        "            \n",
        "            if examine_all is True:\n",
        "                examine_all = False\n",
        "            elif n_changed == 0:\n",
        "                examine_all = True"
      ],
      "metadata": {
        "id": "_FtonRTpaOu-"
      },
      "execution_count": 12,
      "outputs": []
    },
    {
      "cell_type": "code",
      "source": [
        "#samples creation\n",
        "n_a_samples = 50\n",
        "n_b_samples = 50\n",
        "\n",
        "a_samples = np.random.multivariate_normal([-1, 1], [[0.1, 0], [0, 0.1]], n_a_samples)\n",
        "b_samples = np.random.multivariate_normal([1, -1], [[0.1, 0], [0, 0.1]], n_b_samples)\n",
        "a_targets = np.ones(n_a_samples) * -1  # Samples from class A are assigned a class value of -1.\n",
        "b_targets = np.ones(n_b_samples)  # Samples from class B are assigned a class value of 1.\n",
        "\n",
        "samples = np.concatenate((a_samples, b_samples))\n",
        "targets = np.concatenate((a_targets, b_targets))\n",
        "print(samples.shape, targets.shape)"
      ],
      "metadata": {
        "colab": {
          "base_uri": "https://localhost:8080/"
        },
        "id": "dv_t7n5KayLf",
        "outputId": "2ea8e6ee-28a6-4341-9c38-8f629ca78aee"
      },
      "execution_count": 13,
      "outputs": [
        {
          "output_type": "stream",
          "name": "stdout",
          "text": [
            "(100, 2) (100,)\n"
          ]
        }
      ]
    },
    {
      "cell_type": "code",
      "source": [
        "# creating object and fitting the model\n",
        "model = svm(c=5.0)\n",
        "model.fit(samples, targets)\n",
        "print(model._weights)\n",
        "print(model._b)"
      ],
      "metadata": {
        "colab": {
          "base_uri": "https://localhost:8080/"
        },
        "id": "VFUItDgOa_wB",
        "outputId": "237c4da4-d1b8-4472-ac1b-220bc1d8287a"
      },
      "execution_count": 14,
      "outputs": [
        {
          "output_type": "stream",
          "name": "stdout",
          "text": [
            "[ 0.93924812 -0.74767019]\n",
            "-0.14388617437686846\n"
          ]
        }
      ]
    },
    {
      "cell_type": "code",
      "source": [
        "#printing the weight and bias\n",
        "print(f\"weights={model._weights}\")\n",
        "print(f\"b={model._b}\")\n",
        "\n",
        "fig = plt.figure()\n",
        "ax = plot_decision_regions(samples, targets.astype(np.int32), model)\n",
        "fig.add_subplot(ax)\n",
        "plt.show()"
      ],
      "metadata": {
        "colab": {
          "base_uri": "https://localhost:8080/",
          "height": 354
        },
        "id": "UPhk5BIJbJOZ",
        "outputId": "3dd2aad3-01ee-4975-fea5-93de8dd77cae"
      },
      "execution_count": 15,
      "outputs": [
        {
          "output_type": "stream",
          "name": "stdout",
          "text": [
            "weights=[ 0.93924812 -0.74767019]\n",
            "b=-0.14388617437686846\n"
          ]
        },
        {
          "output_type": "stream",
          "name": "stderr",
          "text": [
            "/usr/local/lib/python3.7/dist-packages/mlxtend/plotting/decision_regions.py:244: MatplotlibDeprecationWarning: Passing unsupported keyword arguments to axis() will raise a TypeError in 3.3.\n",
            "  ax.axis(xmin=xx.min(), xmax=xx.max(), y_min=yy.min(), y_max=yy.max())\n"
          ]
        },
        {
          "output_type": "display_data",
          "data": {
            "text/plain": [
              "<Figure size 432x288 with 1 Axes>"
            ],
            "image/png": "[encoded data removed]"
          },
          "metadata": {
            "needs_background": "light"
          }
        }
      ]
    },
    {
      "cell_type": "code",
      "source": [
        "#linear SVC\n",
        "\n",
        "from sklearn.svm import LinearSVC\n",
        "\n",
        "\n",
        "sk_model = LinearSVC()\n",
        "sk_model.fit(samples, targets.astype(np.int32))\n",
        "\n",
        "print(f\"coef_={sk_model.coef_}\")\n",
        "print(f\"intercept={sk_model.intercept_}\")\n",
        "\n",
        "fig = plt.figure()\n",
        "ax = plot_decision_regions(samples, targets.astype(np.int32), sk_model)\n",
        "fig.add_subplot(ax)\n",
        "plt.show()"
      ],
      "metadata": {
        "colab": {
          "base_uri": "https://localhost:8080/",
          "height": 354
        },
        "id": "xjeTZJ6DbQWy",
        "outputId": "a1c1165e-1724-4a6f-9688-021fb99c4ad0"
      },
      "execution_count": 16,
      "outputs": [
        {
          "output_type": "stream",
          "name": "stdout",
          "text": [
            "coef_=[[ 0.69670275 -0.88918305]]\n",
            "intercept=[-0.03492309]\n"
          ]
        },
        {
          "output_type": "stream",
          "name": "stderr",
          "text": [
            "/usr/local/lib/python3.7/dist-packages/mlxtend/plotting/decision_regions.py:244: MatplotlibDeprecationWarning: Passing unsupported keyword arguments to axis() will raise a TypeError in 3.3.\n",
            "  ax.axis(xmin=xx.min(), xmax=xx.max(), y_min=yy.min(), y_max=yy.max())\n"
          ]
        },
        {
          "output_type": "display_data",
          "data": {
            "text/plain": [
              "<Figure size 432x288 with 1 Axes>"
            ],
            "image/png": "[encoded data removed]"
          },
          "metadata": {
            "needs_background": "light"
          }
        }
      ]
    }
  ]
}