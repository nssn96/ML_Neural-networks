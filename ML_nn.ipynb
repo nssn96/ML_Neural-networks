{
  "nbformat": 4,
  "nbformat_minor": 0,
  "metadata": {
    "colab": {
      "name": "ML_nn.ipynb",
      "provenance": [],
      "authorship_tag": "ABX9TyOQYANjUNVO0fbSGTEL1QHm",
      "include_colab_link": true
    },
    "kernelspec": {
      "name": "python3",
      "display_name": "Python 3"
    },
    "language_info": {
      "name": "python"
    }
  },
  "cells": [
    {
      "cell_type": "markdown",
      "metadata": {
        "id": "view-in-github",
        "colab_type": "text"
      },
      "source": [
        "<a href=\"https://colab.research.google.com/github/nssn96/ML_Neural-networks/blob/main/ML_nn.ipynb\" target=\"_parent\"><img src=\"https://colab.research.google.com/assets/colab-badge.svg\" alt=\"Open In Colab\"/></a>"
      ]
    },
    {
      "cell_type": "markdown",
      "source": [
        "# ML Assignment 2 - Neural Networks\n",
        "\n",
        "\n",
        "1.   Author : Surya Narayanan Nadhamuni Suresh\n",
        "2.   UTA ID : 1001877873\n",
        "\n"
      ],
      "metadata": {
        "id": "ZbiR1quLjX2R"
      }
    },
    {
      "cell_type": "code",
      "source": [
        "#import lines\n",
        "import numpy as np\n",
        "import pandas as pd\n",
        "import matplotlib.pyplot as plt\n"
      ],
      "metadata": {
        "id": "v04jPQoetByr"
      },
      "execution_count": 12,
      "outputs": []
    },
    {
      "cell_type": "code",
      "source": [
        "#References Used\n",
        "#https://towardsdatascience.com/https-medium-com-piotr-skalski92-deep-dive-into-deep-networks-math-17660bc376ba\n",
        "#https://towardsdatascience.com/lets-code-a-neural-network-in-plain-numpy-ae7e74410795\n",
        "\n",
        "# This is the Layer class\n",
        "\n",
        "class Layer:\n",
        "\n",
        "  def initial_w_bias(self,nn,value=90):\n",
        "    \n",
        "    #random seed initiation\n",
        "    np.random.seed(value)\n",
        "    n_layers = len(nn)\n",
        "    param = dict()\n",
        "\n",
        "    for index,layer in enumerate(nn):\n",
        "      layer_num = index+1\n",
        "      lyr_inputsize = layer['d_input']\n",
        "      lyr_outputsize = layer['d_output']\n",
        "\n",
        "      #creating the values for the w and bias matrix\n",
        "      param['w'+str(layer_num)] = np.random.randn(lyr_outputsize,lyr_inputsize) * 0.1\n",
        "      param['b'+str(layer_num)] = np.random.randn(lyr_outputsize,1) * 0.1\n",
        "\n",
        "    \n",
        "    return param\n",
        "\n",
        "\n",
        "  def forward(self):\n",
        "    pass\n",
        "\n",
        "\n",
        "  def backward(self):\n",
        "    pass\n",
        "\n"
      ],
      "metadata": {
        "id": "oAZ6__HQjpr1"
      },
      "execution_count": 13,
      "outputs": []
    },
    {
      "cell_type": "code",
      "source": [
        "# This is the Linear layer class\n",
        "\n",
        "class Linearlayer(Layer):\n",
        "\n",
        "  # def forward_single(self,w,bias,prev_out,activ='tanh_forwardprop'):\n",
        "  #   # Z_mat--> the input matrix calculation which will be passed in the activation function\n",
        "  #   Z_mat = np.dot(w,prev_out)\n",
        "  #   return activ(Z_mat),Z_mat # we are returning the calculated z value here because we need the z-value during backward pass calculation\n",
        "\n",
        " #this is the full forward function to calculate whole step forward which will make use of forward_single function to eliminate iteration and speed up calculation \n",
        "  def forward(self, data, param ,nn):\n",
        "    backup=dict() # to store info required for the backward calculation\n",
        "    A_current = data # the input data is the activation for layer 0 ie the input layer\n",
        "\n",
        "    #traversing over the layers in the neural network\n",
        "    #this is the same steps that we used to assign the weights and bias for network\n",
        "    for index,lyr in enumerate(nn):\n",
        "      lyr_num = index+1\n",
        "      #just assigning the previous A value for the calculation of next Z value, since the output of layer(l-1) is the input for layer l\n",
        "      A_before = A_current\n",
        "      # getting the w and bias values from param for sending it to single forward function\n",
        "      w = param['w'+str(lyr_num)]\n",
        "      bias = param['b'+str(lyr_num)]\n",
        "      activ = lyr['activation']\n",
        "\n",
        "      #calculation of activation value A for the current layer\n",
        "      # A_current, Z_current = self.forward_single(w,bias,A_before)\n",
        "\n",
        "      # Z_mat--> the input matrix calculation which will be passed in the activation function\n",
        "      Z_mat = np.dot(w,A_before) + bias\n",
        "      backup['Z'+str(lyr_num)] = Z_mat\n",
        "      A_current = self.activ(Z_mat)\n",
        "      #storing the values for backward pass calc\n",
        "      backup['A'+str(index)] = A_current\n",
        "      \n",
        "\n",
        "      return A_current,backup\n",
        "\n",
        "\n",
        "\n",
        "  def backward_single(self):\n",
        "    pass\n",
        "#in backward pass we use the recursive use of a chain rule\n",
        "  def backward(self,y_pred,y,backup,param,nn):\n",
        "    deriv_values=dict()  #dictionary to store the derivative values\n",
        "\n",
        "    n = y.shape[1] # count of examples\n",
        "    y = y.reshape(y_pred.shape) #reshaping it accordingly\n",
        "\n",
        "    #calculating the derivative of loss w.r.t to prediction vector ie the result of the forward pass\n",
        "    dA_before = - (np.divide(y,y_pred) - np.divide( 1-y, 1-y_pred))\n",
        "\n",
        "    for index,lyr in reversed(list(enumerate(nn))):\n",
        "      lyr_num = index+1\n",
        "      activ = lyr['activation']\n",
        "      if activ is 'tanh_forwardprop':\n",
        "        activ= 'tanh_backprop'\n",
        "      elif activ is 'sigmoid_forwardprop':\n",
        "        activ='sigmoid_backprop'\n",
        "      \n",
        "\n",
        "\n",
        "      dA_current = dA_before\n",
        "      A_previous = backup['A'+str(index)]\n",
        "      z_current = backup['Z'+str(lyr_num)]\n",
        "      w = param['w'+str(lyr_num)]\n",
        "      bias = param['b'+str(lyr_num)]\n",
        "\n",
        "      #calculating the derivative function of the activation function\n",
        "      dZ_current = activ(dA_current,z_current)\n",
        "\n",
        "      #calculating the required terms in the chain rule\n",
        "\n",
        "      #derivative of the weight matrix\n",
        "      dw = np.dot(dZ_current,A_previous) / (A_previous.shape[1])\n",
        "      \n",
        "      #serivative of the A-previous matrix\n",
        "      dA_previous= np.dot(dw.T,dZ_current)\n",
        "      \n",
        "      #derivative of the bias matrix\n",
        "      dbias = np.sum(dZ_current, axis=1, keepdims= True) / (A_previous.shape[1])\n",
        "\n",
        "      #storing the derivative values\n",
        "      deriv_values['dw'+str(lyr_num)] = dw\n",
        "      deriv_values['db'+str(lyr_num)] = dbias\n",
        "\n",
        "      return deriv_values\n",
        "\n",
        "    def update_param(param,deriv_values,nn,alpha):\n",
        "      # to iterate over the whole network to update the w,bias values\n",
        "      for index,lyr in enumerate(nn):\n",
        "        lyr_num = index+1\n",
        "        param['w'+str(lyr_num)] -= alpha * deriv_values['dw'+str(lyr_num)]\n",
        "        param['b'+str(lyr_num)] -=alpha * deriv_values['db'+str(lyr_num)]\n",
        "      \n",
        "      return param\n",
        "\n",
        "\n",
        "\n",
        "\n",
        "\n",
        "\n",
        "\n",
        "  "
      ],
      "metadata": {
        "id": "Vi0vJYQfF-TE"
      },
      "execution_count": 14,
      "outputs": []
    },
    {
      "cell_type": "code",
      "source": [
        "# This is the class for entropy loss\n",
        "\n",
        "class entropy_loss(Layer):\n",
        "\n",
        "  def cross_entropy_forward(y_pred,y):\n",
        "    return -y * np.log(y_pred)\n",
        "  \n",
        "  def cross_entropy_backward(y_pred,y):\n",
        "    return y-y_pred"
      ],
      "metadata": {
        "id": "PmHgq8JKuspK"
      },
      "execution_count": 15,
      "outputs": []
    },
    {
      "cell_type": "code",
      "source": [
        "\n",
        "#This is the class for the sigmoid function\n",
        "\n",
        "class sigmoid_activation(Layer):\n",
        "\n",
        "  def sigmoid_forwardprop(self,Z):\n",
        "   return 1/(1+np.exp(-Z))\n",
        "  \n",
        "  def sigmoid_backprop(self,dA,z):\n",
        "    value = self.sigmoid(z)\n",
        "    return dA * value * (1-value)\n",
        "\n",
        "  "
      ],
      "metadata": {
        "id": "BxWpJiNFLqBJ"
      },
      "execution_count": 16,
      "outputs": []
    },
    {
      "cell_type": "code",
      "source": [
        "#This is the class for the hyperbolic tangent functions\n",
        "\n",
        "class htangent_activation(Layer):\n",
        "\n",
        "  def tanh_forwardprop(self,z):\n",
        "    #2/(1 + e-2x) - 1\n",
        "    return (2/(1+np.exp(-2*z)) -1)\n",
        "  \n",
        "  def tanh_backprop(self,dA,z):\n",
        "    value = self.tanh_forwardprop(z)\n",
        "    return dA * value * (1-value)\n"
      ],
      "metadata": {
        "id": "z7hed8GpPDNl"
      },
      "execution_count": 17,
      "outputs": []
    },
    {
      "cell_type": "code",
      "source": [
        "#This is the class for the softmax function\n",
        "\n",
        "class softmax_activation(Layer):\n",
        "\n",
        "  def softmax_forwardprop(self,z):\n",
        "    return np.exp(z) / sum(np.exp(z))\n",
        "\n",
        "  \n",
        "  # def softmax_backprop(self,dA,z):\n",
        "  #   value = self.softmax_forwardprop(z)\n",
        "  #   return dA * value * (1-value)\n",
        "\n",
        "  \n",
        "  #Yet to edit this--- DONT FORGET+++++++++++++++++++++++++++++++++++++++++++++++++++++++++++++++++++\n",
        "  def sigmoid_backprop(probs, bp_err):\n",
        "    dim = probs.shape[1]\n",
        "    output = np.empty(probs.shape)\n",
        "    for j in range(dim):\n",
        "        d_prob_over_xj = - (probs * probs[:,[j]])  # i.e. prob_k * prob_j, no matter k==j or not\n",
        "        d_prob_over_xj[:,j] += probs[:,j]   # i.e. when k==j, +prob_j\n",
        "        output[:,j] = np.sum(bp_err * d_prob_over_xj, axis=1)\n",
        "    return output\n",
        "  \n",
        "\n",
        "  "
      ],
      "metadata": {
        "id": "DEse3zm3aVus"
      },
      "execution_count": 18,
      "outputs": []
    },
    {
      "cell_type": "code",
      "source": [
        "#This part of the code is for sequential class\n",
        "\n",
        "class Sequential(Layer):\n",
        "\n",
        "  def addlayer(self,d_input,d_output,activation,nn):\n",
        "    nn.append({'d_input':d_input ,'d_output':d_output, 'activation': activation })\n",
        "    return nn\n",
        "\n",
        "  def train(self,data,target,steps,alpha,nn,verbose=False):\n",
        "    #creating the weights and bias matrix\n",
        "    param = self.initial_w_bias(nn,2)\n",
        "\n",
        "    #a list  to store the calculated loss in each iteration\n",
        "    loss_arr=[]\n",
        "\n",
        "    #iterating the network depending on the step value\n",
        "\n",
        "    for i in range(steps):\n",
        "\n",
        "      #forward step calculation\n",
        "      y_pred,backup = self.forward(data,param,nn)\n",
        "\n",
        "      #calculating the loss and adding them to list\n",
        "      loss = self.cross_entropy_forward(y_pred,target)\n",
        "      loss_arr.append(loss)\n",
        "\n",
        "      #calculating the gradient ie backward loss\n",
        "      deriv_values = self.backward(y_pred,target,backup,param,nn)\n",
        "\n",
        "      #updating the parameter values\n",
        "      param = self.update_param(param,deriv_values,nn,alpha)\n",
        "\n",
        "      if(i % 50 ==0):\n",
        "        if verbose:\n",
        "           print(\"Iteration: {:05} - loss_value: {:.5f}\".format(i, loss))\n",
        "    \n",
        "    return param\n"
      ],
      "metadata": {
        "id": "Wmg8BUaiCPuV"
      },
      "execution_count": 19,
      "outputs": []
    },
    {
      "cell_type": "code",
      "source": [
        "# I will be providing the a list of dictionary that contains the parameters for the Neural network( ie the number of layers, number of nodes and activation function)\n",
        "#d_input--> size of the input vector to the layer ie n(l-1) where l is layer\n",
        "#d_ouput--> size of the activation vector at the output of the layer ie n(l)\n",
        "# nn = [\n",
        "#       {'d_input':2 ,'d_output':3, 'activation': 'tanh_forwardprop' } ,\n",
        "#        {'d_input':3 ,'d_output':1, 'activation': 'sigmoid_forwardprop' }\n",
        "# ]\n",
        "nn=[]\n"
      ],
      "metadata": {
        "id": "PP2FC4WTnf-T"
      },
      "execution_count": 20,
      "outputs": []
    },
    {
      "cell_type": "code",
      "source": [
        "# testing to add new layers\n",
        "net = Sequential()\n",
        "param = net.initial_w_bias(nn)\n",
        "nn = net.addlayer(2,3,'tanh_forwardprop',nn)\n",
        "nn = net.addlayer(3,1,'sigmoid_forwardprop',nn)\n",
        "nn\n",
        "# #To see the initial weights and bias added\n",
        "# model = Layer()\n",
        "# param = model.initial_w_bias(nn)\n",
        "# param\n",
        "\n",
        "\n"
      ],
      "metadata": {
        "colab": {
          "base_uri": "https://localhost:8080/"
        },
        "id": "OIPtr3UkD08P",
        "outputId": "07cbd6da-bbdd-42ca-aa14-7d19d200ea87"
      },
      "execution_count": 21,
      "outputs": [
        {
          "output_type": "execute_result",
          "data": {
            "text/plain": [
              "[{'activation': 'tanh_forwardprop', 'd_input': 2, 'd_output': 3},\n",
              " {'activation': 'sigmoid_forwardprop', 'd_input': 3, 'd_output': 1}]"
            ]
          },
          "metadata": {},
          "execution_count": 21
        }
      ]
    },
    {
      "cell_type": "code",
      "source": [
        "#TESTING the model by solving the XOR problem\n",
        "\n",
        "#creating the input data for the XOR\n",
        "\n",
        "data = np.array([[0, 0],\n",
        "                    [0, 1],\n",
        "                    [1, 0],\n",
        "                    [1, 1]])\n",
        "target = np.array([0, 1, 1, 0])\n",
        "\n",
        "#plotting the input data\n",
        "fig = plt.figure()\n",
        "ax = fig.add_subplot(111)\n",
        "ax.scatter(data[:, 0], data[:, 1], c=target)\n",
        "\n",
        "\n"
      ],
      "metadata": {
        "id": "werw1R4D-ZXh",
        "colab": {
          "base_uri": "https://localhost:8080/",
          "height": 282
        },
        "outputId": "bd602b2e-80fd-4610-8a55-3e2e37585e30"
      },
      "execution_count": 22,
      "outputs": [
        {
          "output_type": "execute_result",
          "data": {
            "text/plain": [
              "<matplotlib.collections.PathCollection at 0x7f414acc4610>"
            ]
          },
          "metadata": {},
          "execution_count": 22
        },
        {
          "output_type": "display_data",
          "data": {
            "text/plain": [
              "<Figure size 432x288 with 1 Axes>"
            ],
            "image/png": "[encoded data removed]"
          },
          "metadata": {
            "needs_background": "light"
          }
        }
      ]
    }
  ]
}