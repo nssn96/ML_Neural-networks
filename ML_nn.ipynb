{
  "nbformat": 4,
  "nbformat_minor": 0,
  "metadata": {
    "colab": {
      "name": "ML_nn.ipynb",
      "provenance": [],
      "authorship_tag": "ABX9TyMgegKWABUXVImN5RTzrwz7",
      "include_colab_link": true
    },
    "kernelspec": {
      "name": "python3",
      "display_name": "Python 3"
    },
    "language_info": {
      "name": "python"
    }
  },
  "cells": [
    {
      "cell_type": "markdown",
      "metadata": {
        "id": "view-in-github",
        "colab_type": "text"
      },
      "source": [
        "<a href=\"https://colab.research.google.com/github/nssn96/ML_Neural-networks/blob/main/ML_nn.ipynb\" target=\"_parent\"><img src=\"https://colab.research.google.com/assets/colab-badge.svg\" alt=\"Open In Colab\"/></a>"
      ]
    },
    {
      "cell_type": "markdown",
      "source": [
        "# ML Assignment 2 - Neural Networks\n",
        "\n",
        "\n",
        "1.   Author : Surya Narayanan Nadhamuni Suresh\n",
        "2.   UTA ID : 1001877873\n",
        "\n"
      ],
      "metadata": {
        "id": "ZbiR1quLjX2R"
      }
    },
    {
      "cell_type": "code",
      "source": [
        "#import lines\n",
        "import numpy as np\n",
        "import pandas as pd\n",
        "import matplotlib.pyplot as plt\n"
      ],
      "metadata": {
        "id": "v04jPQoetByr"
      },
      "execution_count": 15,
      "outputs": []
    },
    {
      "cell_type": "code",
      "source": [
        "#References Used\n",
        "#https://towardsdatascience.com/https-medium-com-piotr-skalski92-deep-dive-into-deep-networks-math-17660bc376ba\n",
        "#https://towardsdatascience.com/lets-code-a-neural-network-in-plain-numpy-ae7e74410795\n",
        "\n",
        "# This is the Layer class\n",
        "\n",
        "class Layer:\n",
        "\n",
        "  def initial_w_bias(self,nn):\n",
        "    \n",
        "    #random seed initiation\n",
        "    np.random.seed(90)\n",
        "    n_layers = len(nn)\n",
        "    param = dict()\n",
        "\n",
        "    for index,layer in enumerate(nn):\n",
        "      layer_num = index+1\n",
        "      lyr_inputsize = layer['d_input']\n",
        "      lyr_outputsize = layer['d_output']\n",
        "\n",
        "      #creating the values for the w and bias matrix\n",
        "      param['w'+str(layer_num)] = np.random.randn(lyr_outputsize,lyr_inputsize) * 0.1\n",
        "      param['b'+str(layer_num)] = np.random.randn(lyr_outputsize,1) * 0.1\n",
        "\n",
        "\n",
        "  def forward(self):\n",
        "    pass\n",
        "\n",
        "\n",
        "  def backward(self):\n",
        "    pass\n",
        "\n"
      ],
      "metadata": {
        "id": "oAZ6__HQjpr1"
      },
      "execution_count": 16,
      "outputs": []
    },
    {
      "cell_type": "code",
      "source": [
        "# This is the Linear layer class\n",
        "\n",
        "class Linearlayer(Layer):\n",
        "\n",
        "  # def forward_single(self,w,bias,prev_out,activ='tanh_forwardprop'):\n",
        "  #   # Z_mat--> the input matrix calculation which will be passed in the activation function\n",
        "  #   Z_mat = np.dot(w,prev_out)\n",
        "  #   return activ(Z_mat),Z_mat # we are returning the calculated z value here because we need the z-value during backward pass calculation\n",
        "\n",
        " #this is the full forward function to calculate whole step forward which will make use of forward_single function to eliminate iteration and speed up calculation \n",
        "  def forward(self, data, param ,nn):\n",
        "    backup=dict() # to store info required for the backward calculation\n",
        "    A_current = data # the input data is the activation for layer 0 ie the input layer\n",
        "\n",
        "    #traversing over the layers in the neural network\n",
        "    #this is the same steps that we used to assign the weights and bias for network\n",
        "    for index,lyr in enumerate(nn):\n",
        "      lyr_num = index+1\n",
        "      #just assigning the previous A value for the calculation of next Z value, since the output of layer(l-1) is the input for layer l\n",
        "      A_before = A_current\n",
        "      # getting the w and bias values from param for sending it to single forward function\n",
        "      w = param['w'+str(lyr_num)]\n",
        "      bias = param['b'+str(lyr_num)]\n",
        "\n",
        "      #calculation of activation value A for the current layer\n",
        "      # A_current, Z_current = self.forward_single(w,bias,A_before)\n",
        "\n",
        "      # Z_mat--> the input matrix calculation which will be passed in the activation function\n",
        "      Z_mat = np.dot(w,A_before) + bias\n",
        "      backup['Z'+str(lyr_num)] = Z_mat\n",
        "      A_current = self.activ(Z_mat)\n",
        "      #storing the values for backward pass calc\n",
        "      backup['A'+str(index)] = A_current\n",
        "      \n",
        "\n",
        "      return A_current,backup\n",
        "\n",
        "\n",
        "  \n",
        "  def backward_single(self):\n",
        "    pass\n",
        "  \n",
        "  def backward(self):\n",
        "    pass\n",
        "  "
      ],
      "metadata": {
        "id": "Vi0vJYQfF-TE"
      },
      "execution_count": 17,
      "outputs": []
    },
    {
      "cell_type": "code",
      "source": [
        "#This is the class for the sigmoid function\n",
        "\n",
        "class sigmoid_activation(Layer):\n",
        "\n",
        "  def sigmoid_forwardprop(self,Z):\n",
        "   return 1/(1+np.exp(-Z))\n",
        "  \n",
        "  def sigmoid_backprop(self,dA,z):\n",
        "    value = self.sigmoid(z)\n",
        "    return dA * value * (1-value)\n",
        "  "
      ],
      "metadata": {
        "id": "BxWpJiNFLqBJ"
      },
      "execution_count": 18,
      "outputs": []
    },
    {
      "cell_type": "code",
      "source": [
        "#This is the class for the hyperbolic tangent functions\n",
        "\n",
        "class htangent_activation(Layer):\n",
        "\n",
        "  def tanh_forwardprop(self,z):\n",
        "    #2/(1 + e-2x) - 1\n",
        "    return (2/(1+np.exp(-2*z)) -1)\n",
        "  \n",
        "  def tanh_backprop(self,dA,z):\n",
        "    value = self.tanh_forwardprop(z)\n",
        "    return dA * value * (1-value)\n"
      ],
      "metadata": {
        "id": "z7hed8GpPDNl"
      },
      "execution_count": 19,
      "outputs": []
    },
    {
      "cell_type": "code",
      "source": [
        "#This is the class for the softmax function\n",
        "\n",
        "class softmax_activation(Layer):\n",
        "\n",
        "  def softmax_forwardprop(self,z):\n",
        "    return np.exp(z) / sum(np.exp(z))\n",
        "\n",
        "  \n",
        "  def softmax_backprop(self,dA,z):\n",
        "    value = self.softmax_forwardprop(z)\n",
        "    return dA * value * (1-value)\n",
        "\n",
        "  "
      ],
      "metadata": {
        "id": "DEse3zm3aVus"
      },
      "execution_count": 20,
      "outputs": []
    },
    {
      "cell_type": "code",
      "source": [
        "# I will be providing the a list of dictionary that contains the parameters for the Neural network( ie the number of layers, number of nodes and activation function)\n",
        "#d_input--> size of the input vector to the layer ie n(l-1) where l is layer\n",
        "#d_ouput--> size of the activation vector at the output of the layer ie n(l)\n",
        "nn = [\n",
        "      {'d_input':2 ,'d_output':3, 'activation': 'tanh' } ,\n",
        "       {'d_input':3 ,'d_output':1, 'activation': 'sigmoid' }\n",
        "]\n",
        "\n",
        "print(nn)"
      ],
      "metadata": {
        "id": "PP2FC4WTnf-T",
        "colab": {
          "base_uri": "https://localhost:8080/"
        },
        "outputId": "5772b0ba-e83c-495c-b65b-59745d425480"
      },
      "execution_count": 21,
      "outputs": [
        {
          "output_type": "stream",
          "name": "stdout",
          "text": [
            "[{'d_input': 2, 'd_output': 3, 'activation': 'tanh'}, {'d_input': 3, 'd_output': 1, 'activation': 'sigmoid'}]\n"
          ]
        }
      ]
    },
    {
      "cell_type": "code",
      "source": [
        "#testing\n",
        "net = Linearlayer()\n",
        "param = net.initial_w_bias(nn)\n",
        "#print(net.forward())"
      ],
      "metadata": {
        "id": "OIPtr3UkD08P"
      },
      "execution_count": 22,
      "outputs": []
    }
  ]
}