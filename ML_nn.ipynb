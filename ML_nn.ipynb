{
  "nbformat": 4,
  "nbformat_minor": 0,
  "metadata": {
    "colab": {
      "name": "ML_nn.ipynb",
      "provenance": [],
      "authorship_tag": "ABX9TyP2RkTWKhwaJcrQDtYSwIk0",
      "include_colab_link": true
    },
    "kernelspec": {
      "name": "python3",
      "display_name": "Python 3"
    },
    "language_info": {
      "name": "python"
    }
  },
  "cells": [
    {
      "cell_type": "markdown",
      "metadata": {
        "id": "view-in-github",
        "colab_type": "text"
      },
      "source": [
        "<a href=\"https://colab.research.google.com/github/nssn96/ML_Neural-networks/blob/main/ML_nn.ipynb\" target=\"_parent\"><img src=\"https://colab.research.google.com/assets/colab-badge.svg\" alt=\"Open In Colab\"/></a>"
      ]
    },
    {
      "cell_type": "markdown",
      "source": [
        "# ML Assignment 2 - Neural Networks\n",
        "\n",
        "\n",
        "1.   Author : Surya Narayanan Nadhamuni Suresh\n",
        "2.   UTA ID : 1001877873\n",
        "\n"
      ],
      "metadata": {
        "id": "ZbiR1quLjX2R"
      }
    },
    {
      "cell_type": "code",
      "source": [
        "#import lines\n",
        "import numpy as np\n",
        "import pandas as pd\n",
        "import matplotlib.pyplot as plt\n"
      ],
      "metadata": {
        "id": "v04jPQoetByr"
      },
      "execution_count": 1301,
      "outputs": []
    },
    {
      "cell_type": "code",
      "source": [
        "#References Used\n",
        "#https://towardsdatascience.com/https-medium-com-piotr-skalski92-deep-dive-into-deep-networks-math-17660bc376ba\n",
        "#https://towardsdatascience.com/lets-code-a-neural-network-in-plain-numpy-ae7e74410795\n",
        "\n",
        "# This is the Layer class\n",
        "\n",
        "class Layer:\n",
        "\n",
        "  def initial_w_bias(self,nn,value=90):\n",
        "    \n",
        "    #random seed initiation\n",
        "    np.random.seed(value)\n",
        "    n_layers = len(nn)\n",
        "    param = dict()\n",
        "\n",
        "    for index,layer in enumerate(nn):\n",
        "      layer_num = index+1\n",
        "      lyr_inputsize = layer['d_input']\n",
        "      lyr_outputsize = layer['d_output']\n",
        "\n",
        "      #creating the values for the w and bias matrix\n",
        "      param['w'+str(layer_num)] = np.random.randn(lyr_outputsize,lyr_inputsize) * 0.1\n",
        "      param['b'+str(layer_num)] = np.random.randn(lyr_outputsize,1) * 0.1\n",
        "\n",
        "\n",
        "    return param\n",
        "\n",
        "\n",
        "\n",
        "  # def forward(self, data, param ,nn):\n",
        "  #   pass\n",
        "\n",
        "\n",
        "  # def backward(self,y_pred,y,backup,param,nn):\n",
        "  #   pass\n",
        "\n"
      ],
      "metadata": {
        "id": "oAZ6__HQjpr1"
      },
      "execution_count": 1302,
      "outputs": []
    },
    {
      "cell_type": "code",
      "source": [
        "#This is the class for the hyperbolic tangent functions\n",
        "\n",
        "#class htangent_activation(Layer):\n",
        "\n",
        "def tanh_forwardprop(z):\n",
        "  #2/(1 + e-2x) - 1\n",
        "  return (2/(1+np.exp(-2*z)) -1)\n",
        "\n",
        "def tanh_backprop(dA,z):\n",
        "  value = self.tanh_forwardprop(z)\n",
        "  return dA * value * (1-value)\n"
      ],
      "metadata": {
        "id": "K_STykIVRWSJ"
      },
      "execution_count": 1303,
      "outputs": []
    },
    {
      "cell_type": "code",
      "source": [
        "\n",
        "#This is the class for the sigmoid function\n",
        "\n",
        "#class sigmoid_activation(Layer):\n",
        "\n",
        "def sigmoid_forwardprop(Z):\n",
        "  return 1/(1+np.exp(-Z))\n",
        "  \n",
        "def sigmoid_backprop(dA,z):\n",
        "  value = sigmoid_forwardprop(z)\n",
        "  return dA * value * (1-value)\n"
      ],
      "metadata": {
        "id": "jMLmwVuLRjUM"
      },
      "execution_count": 1304,
      "outputs": []
    },
    {
      "cell_type": "code",
      "source": [
        "# This is the Linear layer class\n",
        "\n",
        "class Linearlayer(Layer):\n",
        "\n",
        "  # def forward_single(self,w,bias,prev_out,activ='tanh_forwardprop'):\n",
        "  #   # Z_mat--> the input matrix calculation which will be passed in the activation function\n",
        "  #   Z_mat = np.dot(w,prev_out)\n",
        "  #   return activ(Z_mat),Z_mat # we are returning the calculated z value here because we need the z-value during backward pass calculation\n",
        "\n",
        " #this is the full forward function to calculate whole step forward which will make use of forward_single function to eliminate iteration and speed up calculation \n",
        "  def forward(self, data, param ,nn):\n",
        "    backup=dict() # to store info required for the backward calculation\n",
        "    A_current = data # the input data is the activation for layer 0 ie the input layer\n",
        "\n",
        "    #traversing over the layers in the neural network\n",
        "    #this is the same steps that we used to assign the weights and bias for network\n",
        "    for index,lyr in enumerate(nn):\n",
        "      \n",
        "      lyr_num = index+1\n",
        "      print('Loop'+str(lyr_num))\n",
        "      #just assigning the previous A value for the calculation of next Z value, since the output of layer(l-1) is the input for layer l\n",
        "      A_before = A_current\n",
        "      # getting the w and bias values from param for sending it to single forward function\n",
        "      w = param['w'+str(lyr_num)]\n",
        "      bias = param['b'+str(lyr_num)]\n",
        "      #activ = lyr['activation']\n",
        "      active =lyr['activation']\n",
        "\n",
        "      #calculation of activation value A for the current layer\n",
        "      # A_current, Z_current = self.forward_single(w,bias,A_before)\n",
        "\n",
        "      # Z_mat--> the input matrix calculation which will be passed in the activation function\n",
        "      print('A_before')\n",
        "      print(A_before)\n",
        "      Z_mat = np.dot(w,A_before) + bias\n",
        "      backup['Z'+str(lyr_num)] = Z_mat\n",
        "      print('z_mat')\n",
        "      print(Z_mat)\n",
        "      \n",
        "      A_current = tanh_forwardprop(Z_mat)\n",
        "      #A_current = globals()['activ'](Z_mat)\n",
        "     \n",
        "      #storing the values for backward pass calc\n",
        "      backup['A'+str(lyr_num)] = A_current\n",
        "      \n",
        "      print('A_current '+str(lyr_num))\n",
        "      print(A_current)\n",
        "      print('end of Loop'+str(lyr_num))\n",
        "\n",
        "\n",
        "    return A_current,backup\n",
        "\n",
        "#in backward pass we use the recursive use of a chain rule\n",
        "  def backward(self,y_pred,y,backup,param,nn):\n",
        "    deriv_values=dict()  #dictionary to store the derivative values\n",
        "\n",
        "    n = y.shape[1] # count of examples\n",
        "    # print('This is the value of n')\n",
        "    # print(n)\n",
        "    # print('this is y_pred value')\n",
        "    # print(y_pred)\n",
        "    #y = y.reshape(y_pred.shape) #reshaping it accordingly\n",
        "\n",
        "    print('backup')\n",
        "    print(backup)\n",
        "    #calculating the derivative of loss w.r.t to prediction vector ie the result of the forward pass\n",
        "    dA_before = - (np.divide(y,y_pred) - np.divide( 1-y, 1-y_pred))\n",
        "\n",
        "    for index,lyr in reversed(list(enumerate(nn))):\n",
        "      lyr_num = index+1\n",
        "      # activ = lyr['activation']\n",
        "      # print(activ)\n",
        "      \n",
        "      if lyr['activation'] == 'tanh_forwardprop':\n",
        "        active = 'tanh_backprop'\n",
        "      elif lyr['activation'] == 'sigmoid_forwardprop':\n",
        "        active = 'sigmoid_backprop'\n",
        "      \n",
        "      \n",
        "\n",
        "\n",
        "      dA_current = dA_before\n",
        "      A_previous = backup['A'+str(lyr_num)]\n",
        "      z_current = backup['Z'+str(lyr_num)]\n",
        "      w = param['w'+str(lyr_num)]\n",
        "      bias = param['b'+str(lyr_num)]\n",
        "\n",
        "      # print('Z_current')\n",
        "      # print(z_current)\n",
        "      # print('dA_current')\n",
        "      # print(dA_current)\n",
        "\n",
        "      #calculating the derivative function of the activation function\n",
        "      dZ_current = sigmoid_backprop(dA_current,z_current)\n",
        "\n",
        "      #calculating the required terms in the chain rule\n",
        "\n",
        "      print('dz_current')\n",
        "      print(dZ_current)\n",
        "      print('A_previous')\n",
        "      print(A_previous)\n",
        "\n",
        "      #derivative of the weight matrix\n",
        "      #dw = np.dot(dZ_current,A_previous) / (A_previous.shape[1])\n",
        "      dw = (dZ_current @ A_previous.T) / (A_previous.shape[1])\n",
        "      \n",
        "      #serivative of the A-previous matrix\n",
        "      dA_previous= np.dot(dw.T,dZ_current)\n",
        "      #dA_previous= np.dot(dw,dZ_current)\n",
        "      \n",
        "      #derivative of the bias matrix\n",
        "      dbias = np.sum(dZ_current, axis=1, keepdims= True) / (A_previous.shape[1])\n",
        "\n",
        "      #storing the derivative values\n",
        "      deriv_values['dw'+str(lyr_num)] = dw\n",
        "      deriv_values['db'+str(lyr_num)] = dbias\n",
        "\n",
        "    return deriv_values\n",
        "\n",
        "    # def update_param(param,deriv_values,nn,alpha):\n",
        "    #   # to iterate over the whole network to update the w,bias values\n",
        "    #   for index,lyr in enumerate(nn):\n",
        "    #     lyr_num = index+1\n",
        "    #     param['w'+str(lyr_num)] -= alpha * deriv_values['dw'+str(lyr_num)]\n",
        "    #     param['b'+str(lyr_num)] -=alpha * deriv_values['db'+str(lyr_num)]\n",
        "      \n",
        "    #   return param\n",
        "\n",
        "\n",
        "\n",
        "\n",
        "\n",
        "\n",
        "\n",
        "  "
      ],
      "metadata": {
        "id": "Vi0vJYQfF-TE"
      },
      "execution_count": 1305,
      "outputs": []
    },
    {
      "cell_type": "code",
      "source": [
        "# This is the class for entropy loss\n",
        "\n",
        "class entropy_loss(Linearlayer):\n",
        "\n",
        "  def cross_entropy_forward(self,y_pred,y):\n",
        "    return -y * np.log(y_pred)\n",
        "  \n",
        "  def cross_entropy_backward(self,y_pred,y):\n",
        "    return y-y_pred\n",
        "  \n",
        "  def update_param(self,param,deriv_values,nn,alpha):\n",
        "      # to iterate over the whole network to update the w,bias values\n",
        "      print('deriv_values')\n",
        "      print(deriv_values)\n",
        "      for index,lyr in enumerate(nn):\n",
        "        lyr_num = index+1\n",
        "        param['w'+str(lyr_num)] -= alpha * deriv_values['dw'+str(lyr_num)]\n",
        "        param['b'+str(lyr_num)] -=alpha * deriv_values['db'+str(lyr_num)]\n",
        "      \n",
        "      return param"
      ],
      "metadata": {
        "id": "PmHgq8JKuspK"
      },
      "execution_count": 1306,
      "outputs": []
    },
    {
      "cell_type": "code",
      "source": [
        "\n",
        "#This is the class for the sigmoid function\n",
        "\n",
        "#class sigmoid_activation(Layer):\n",
        "\n",
        "def sigmoid_forwardprop(Z):\n",
        "  return 1/(1+np.exp(-Z))\n",
        "  \n",
        "def sigmoid_backprop(dA,z):\n",
        "  value = sigmoid_forwardprop(z)\n",
        "  return dA * value * (1-value)\n",
        "\n",
        "  "
      ],
      "metadata": {
        "id": "BxWpJiNFLqBJ"
      },
      "execution_count": 1307,
      "outputs": []
    },
    {
      "cell_type": "code",
      "source": [
        "#This is the class for the hyperbolic tangent functions\n",
        "\n",
        "#class htangent_activation(Layer):\n",
        "\n",
        "def tanh_forwardprop(z):\n",
        "  #2/(1 + e-2x) - 1\n",
        "  return (2/(1+np.exp(-2*z)) -1)\n",
        "\n",
        "def tanh_backprop(dA,z):\n",
        "  value = tanh_forwardprop(z)\n",
        "  #return dA * value * (1-value)\n",
        "  return dA @ value @ (1-value)\n"
      ],
      "metadata": {
        "id": "z7hed8GpPDNl"
      },
      "execution_count": 1308,
      "outputs": []
    },
    {
      "cell_type": "code",
      "source": [
        "#This is the class for the softmax function\n",
        "\n",
        "class softmax_activation(Layer):\n",
        "\n",
        "  def softmax_forwardprop(self,z):\n",
        "    return np.exp(z) / sum(np.exp(z))\n",
        "\n",
        "  \n",
        "  # def softmax_backprop(self,dA,z):\n",
        "  #   value = self.softmax_forwardprop(z)\n",
        "  #   return dA * value * (1-value)\n",
        "\n",
        "  \n",
        "  #Yet to edit this--- DONT FORGET+++++++++++++++++++++++++++++++++++++++++++++++++++++++++++++++++++\n",
        "  def softmax_backprop(probs, bp_err):\n",
        "    dim = probs.shape[1]\n",
        "    output = np.empty(probs.shape)\n",
        "    for j in range(dim):\n",
        "        d_prob_over_xj = - (probs * probs[:,[j]])  # i.e. prob_k * prob_j, no matter k==j or not\n",
        "        d_prob_over_xj[:,j] += probs[:,j]   # i.e. when k==j, +prob_j\n",
        "        output[:,j] = np.sum(bp_err * d_prob_over_xj, axis=1)\n",
        "    return output\n",
        "  \n",
        "\n",
        "  "
      ],
      "metadata": {
        "id": "DEse3zm3aVus"
      },
      "execution_count": 1309,
      "outputs": []
    },
    {
      "cell_type": "code",
      "source": [
        "#This part of the code is for sequential class\n",
        "\n",
        "class Sequential(entropy_loss):\n",
        "\n",
        "  def addlayer(self,d_input,d_output,activation,nn):\n",
        "    nn.append({'d_input':d_input ,'d_output':d_output, 'activation': activation })\n",
        "    return nn\n",
        "\n",
        "  def train(self,data,target,steps,alpha,nn,verbose=False):\n",
        "    #creating the weights and bias matrix\n",
        "    param = self.initial_w_bias(nn,2)\n",
        "    #print(param)\n",
        "\n",
        "    #a list  to store the calculated loss in each iteration\n",
        "    loss_arr=[]\n",
        "\n",
        "    #iterating the network depending on the step value\n",
        "    print(param)\n",
        "\n",
        "    for i in range(steps):\n",
        "\n",
        "      #forward step calculation\n",
        "      \n",
        "      y_pred,backup = self.forward(data,param,nn)\n",
        "\n",
        "      \"\"\" CHANGE TO MSE ERROR============================================================================ \"\"\"\n",
        "      #calculating the loss and adding them to list\n",
        "      loss = entropy_loss()\n",
        "      loss.cross_entropy_forward(y_pred,target)\n",
        "      loss_arr.append(loss)\n",
        "\n",
        "      # print('value of y_pred after forward pass')\n",
        "      # print(y_pred)\n",
        "\n",
        "      #calculating the gradient ie backward loss\n",
        "      deriv_values = self.backward(y_pred,target,backup,param,nn)\n",
        "    \n",
        "      #updating the parameter values\n",
        "      param = self.update_param(param,deriv_values,nn,alpha)\n",
        "\n",
        "      if(i % 50 ==0):\n",
        "        if verbose:\n",
        "           print(\"Iteration: {:05} - loss_value: {:.5f}\".format(i, loss))\n",
        "    \n",
        "    return param\n"
      ],
      "metadata": {
        "id": "Wmg8BUaiCPuV"
      },
      "execution_count": 1310,
      "outputs": []
    },
    {
      "cell_type": "code",
      "source": [
        "# I will be providing the a list of dictionary that contains the parameters for the Neural network( ie the number of layers, number of nodes and activation function)\n",
        "#d_input--> size of the input vector to the layer ie n(l-1) where l is layer\n",
        "#d_ouput--> size of the activation vector at the output of the layer ie n(l)\n",
        "# nn = [\n",
        "#       {'d_input':2 ,'d_output':3, 'activation': 'tanh_forwardprop' } ,\n",
        "#        {'d_input':3 ,'d_output':1, 'activation': 'sigmoid_forwardprop' }\n",
        "# ]\n",
        "nn=[]\n"
      ],
      "metadata": {
        "id": "PP2FC4WTnf-T"
      },
      "execution_count": 1311,
      "outputs": []
    },
    {
      "cell_type": "code",
      "source": [
        "# testing to add new layers\n",
        "net = Sequential()\n",
        "param = net.initial_w_bias(nn)\n",
        "nn = net.addlayer(2,3,'tanh_forwardprop',nn)\n",
        "nn = net.addlayer(3,1,'sigmoid_forwardprop',nn)\n",
        "nn\n",
        "# #To see the initial weights and bias added\n",
        "# model = Layer()\n",
        "# param = model.initial_w_bias(nn)\n",
        "# param\n",
        "\n",
        "\n"
      ],
      "metadata": {
        "colab": {
          "base_uri": "https://localhost:8080/"
        },
        "id": "OIPtr3UkD08P",
        "outputId": "9e606ad3-110a-47a1-cc61-ba83c1ab20cb"
      },
      "execution_count": 1312,
      "outputs": [
        {
          "output_type": "execute_result",
          "data": {
            "text/plain": [
              "[{'activation': 'tanh_forwardprop', 'd_input': 2, 'd_output': 3},\n",
              " {'activation': 'sigmoid_forwardprop', 'd_input': 3, 'd_output': 1}]"
            ]
          },
          "metadata": {},
          "execution_count": 1312
        }
      ]
    },
    {
      "cell_type": "code",
      "source": [
        "#TESTING the model by solving the XOR problem\n",
        "\n",
        "#creating the input data for the XOR\n",
        "\n",
        "data = np.array([[0, 0],\n",
        "                    [0, 1],\n",
        "                    [1, 0],\n",
        "                    [1, 1]])\n",
        "target = np.array([0, 1, 1, 0])\n",
        "\n",
        "# #plotting the input data\n",
        "# fig = plt.figure()\n",
        "# ax = fig.add_subplot(111)\n",
        "# ax.scatter(data[:, 0], data[:, 1], c=target)\n",
        "\n",
        "\n",
        "# print(data.shape)\n",
        "# # print(target.shape)\n",
        "# print('=====================================')\n",
        "#Training the model\n",
        "#def train(self,data,target,steps,alpha,nn,verbose=False):\n",
        "# print(np.transpose(data[1]))\n",
        "# print('=====================================')\n",
        "# print(np.transpose(target.reshape((target.shape[0],1))))\n",
        "# print('=====================================')\n",
        "param = net.train(np.transpose(data) , np.transpose(target.reshape((target.shape[0],1))),5,0.01,nn)"
      ],
      "metadata": {
        "id": "werw1R4D-ZXh",
        "colab": {
          "base_uri": "https://localhost:8080/",
          "height": 1000
        },
        "outputId": "c420bd26-c886-41d4-a52e-30e781bb0bde"
      },
      "execution_count": 1313,
      "outputs": [
        {
          "output_type": "stream",
          "name": "stdout",
          "text": [
            "{'w1': array([[-0.04167578, -0.00562668],\n",
            "       [-0.21361961,  0.16402708],\n",
            "       [-0.17934356, -0.08417474]]), 'b1': array([[ 0.05028814],\n",
            "       [-0.12452881],\n",
            "       [-0.10579522]]), 'w2': array([[-0.09090076,  0.0551454 ,  0.2292208 ]]), 'b2': array([[0.00415394]])}\n",
            "Loop1\n",
            "A_before\n",
            "[[0 0 1 1]\n",
            " [0 1 0 1]]\n",
            "z_mat\n",
            "[[ 0.05028814  0.04466146  0.00861236  0.00298567]\n",
            " [-0.12452881  0.03949827 -0.33814842 -0.17412134]\n",
            " [-0.10579522 -0.18996996 -0.28513878 -0.36931352]]\n",
            "A_current 1\n",
            "[[ 0.05024579  0.04463179  0.00861214  0.00298567]\n",
            " [-0.12388907  0.03947774 -0.32582338 -0.17238273]\n",
            " [-0.10540227 -0.18771722 -0.27765444 -0.35339111]]\n",
            "end of Loop1\n",
            "Loop2\n",
            "A_before\n",
            "[[ 0.05024579  0.04463179  0.00861214  0.00298567]\n",
            " [-0.12388907  0.03947774 -0.32582338 -0.17238273]\n",
            " [-0.10540227 -0.18771722 -0.27765444 -0.35339111]]\n",
            "z_mat\n",
            "[[-0.03140575 -0.0407548  -0.07824075 -0.08662817]]\n",
            "A_current 2\n",
            "[[-0.03139543 -0.04073225 -0.07808148 -0.08641212]]\n",
            "end of Loop2\n",
            "backup\n",
            "{'Z1': array([[ 0.05028814,  0.04466146,  0.00861236,  0.00298567],\n",
            "       [-0.12452881,  0.03949827, -0.33814842, -0.17412134],\n",
            "       [-0.10579522, -0.18996996, -0.28513878, -0.36931352]]), 'A1': array([[ 0.05024579,  0.04463179,  0.00861214,  0.00298567],\n",
            "       [-0.12388907,  0.03947774, -0.32582338, -0.17238273],\n",
            "       [-0.10540227, -0.18771722, -0.27765444, -0.35339111]]), 'Z2': array([[-0.03140575, -0.0407548 , -0.07824075, -0.08662817]]), 'A2': array([[-0.03139543, -0.04073225, -0.07808148, -0.08641212]])}\n",
            "dz_current\n",
            "[[0.2423303  6.13509469 3.19688845 0.22968407]]\n",
            "A_previous\n",
            "[[-0.03139543 -0.04073225 -0.07808148 -0.08641212]]\n",
            "dz_current\n",
            "[[0.24223688 6.13458298 3.20172411 0.23011474]\n",
            " [0.24145277 6.13524934 3.11197343 0.22837986]\n",
            " [0.24171308 6.08259923 3.13757575 0.22244374]]\n",
            "A_previous\n",
            "[[ 0.05024579  0.04463179  0.00861214  0.00298567]\n",
            " [-0.12388907  0.03947774 -0.32582338 -0.17238273]\n",
            " [-0.10540227 -0.18771722 -0.27765444 -0.35339111]]\n",
            "deriv_values\n",
            "{'dw2': array([[-0.13174239]]), 'db2': array([[2.45099938]]), 'dw1': array([[ 0.07855739, -0.21767384, -0.53684815],\n",
            "       [ 0.07836044, -0.2102575 , -0.53047557],\n",
            "       [ 0.07782694, -0.21261483, -0.5292643 ]]), 'db1': array([[2.45216468],\n",
            "       [2.42926385],\n",
            "       [2.42108295]])}\n"
          ]
        },
        {
          "output_type": "stream",
          "name": "stderr",
          "text": [
            "/usr/local/lib/python3.7/dist-packages/ipykernel_launcher.py:6: RuntimeWarning: invalid value encountered in log\n",
            "  \n"
          ]
        },
        {
          "output_type": "error",
          "ename": "ValueError",
          "evalue": "ignored",
          "traceback": [
            "\u001b[0;31m---------------------------------------------------------------------------\u001b[0m",
            "\u001b[0;31mValueError\u001b[0m                                Traceback (most recent call last)",
            "\u001b[0;32m<ipython-input-1313-5aa87f9584d0>\u001b[0m in \u001b[0;36m<module>\u001b[0;34m()\u001b[0m\n\u001b[1;32m     24\u001b[0m \u001b[0;31m# print(np.transpose(target.reshape((target.shape[0],1))))\u001b[0m\u001b[0;34m\u001b[0m\u001b[0;34m\u001b[0m\u001b[0;34m\u001b[0m\u001b[0m\n\u001b[1;32m     25\u001b[0m \u001b[0;31m# print('=====================================')\u001b[0m\u001b[0;34m\u001b[0m\u001b[0;34m\u001b[0m\u001b[0;34m\u001b[0m\u001b[0m\n\u001b[0;32m---> 26\u001b[0;31m \u001b[0mparam\u001b[0m \u001b[0;34m=\u001b[0m \u001b[0mnet\u001b[0m\u001b[0;34m.\u001b[0m\u001b[0mtrain\u001b[0m\u001b[0;34m(\u001b[0m\u001b[0mnp\u001b[0m\u001b[0;34m.\u001b[0m\u001b[0mtranspose\u001b[0m\u001b[0;34m(\u001b[0m\u001b[0mdata\u001b[0m\u001b[0;34m)\u001b[0m \u001b[0;34m,\u001b[0m \u001b[0mnp\u001b[0m\u001b[0;34m.\u001b[0m\u001b[0mtranspose\u001b[0m\u001b[0;34m(\u001b[0m\u001b[0mtarget\u001b[0m\u001b[0;34m.\u001b[0m\u001b[0mreshape\u001b[0m\u001b[0;34m(\u001b[0m\u001b[0;34m(\u001b[0m\u001b[0mtarget\u001b[0m\u001b[0;34m.\u001b[0m\u001b[0mshape\u001b[0m\u001b[0;34m[\u001b[0m\u001b[0;36m0\u001b[0m\u001b[0;34m]\u001b[0m\u001b[0;34m,\u001b[0m\u001b[0;36m1\u001b[0m\u001b[0;34m)\u001b[0m\u001b[0;34m)\u001b[0m\u001b[0;34m)\u001b[0m\u001b[0;34m,\u001b[0m\u001b[0;36m5\u001b[0m\u001b[0;34m,\u001b[0m\u001b[0;36m0.01\u001b[0m\u001b[0;34m,\u001b[0m\u001b[0mnn\u001b[0m\u001b[0;34m)\u001b[0m\u001b[0;34m\u001b[0m\u001b[0;34m\u001b[0m\u001b[0m\n\u001b[0m",
            "\u001b[0;32m<ipython-input-1310-adda0b8ea567>\u001b[0m in \u001b[0;36mtrain\u001b[0;34m(self, data, target, steps, alpha, nn, verbose)\u001b[0m\n\u001b[1;32m     37\u001b[0m \u001b[0;34m\u001b[0m\u001b[0m\n\u001b[1;32m     38\u001b[0m       \u001b[0;31m#updating the parameter values\u001b[0m\u001b[0;34m\u001b[0m\u001b[0;34m\u001b[0m\u001b[0;34m\u001b[0m\u001b[0m\n\u001b[0;32m---> 39\u001b[0;31m       \u001b[0mparam\u001b[0m \u001b[0;34m=\u001b[0m \u001b[0mself\u001b[0m\u001b[0;34m.\u001b[0m\u001b[0mupdate_param\u001b[0m\u001b[0;34m(\u001b[0m\u001b[0mparam\u001b[0m\u001b[0;34m,\u001b[0m\u001b[0mderiv_values\u001b[0m\u001b[0;34m,\u001b[0m\u001b[0mnn\u001b[0m\u001b[0;34m,\u001b[0m\u001b[0malpha\u001b[0m\u001b[0;34m)\u001b[0m\u001b[0;34m\u001b[0m\u001b[0;34m\u001b[0m\u001b[0m\n\u001b[0m\u001b[1;32m     40\u001b[0m \u001b[0;34m\u001b[0m\u001b[0m\n\u001b[1;32m     41\u001b[0m       \u001b[0;32mif\u001b[0m\u001b[0;34m(\u001b[0m\u001b[0mi\u001b[0m \u001b[0;34m%\u001b[0m \u001b[0;36m50\u001b[0m \u001b[0;34m==\u001b[0m\u001b[0;36m0\u001b[0m\u001b[0;34m)\u001b[0m\u001b[0;34m:\u001b[0m\u001b[0;34m\u001b[0m\u001b[0;34m\u001b[0m\u001b[0m\n",
            "\u001b[0;32m<ipython-input-1306-8f633559a770>\u001b[0m in \u001b[0;36mupdate_param\u001b[0;34m(self, param, deriv_values, nn, alpha)\u001b[0m\n\u001b[1;32m     15\u001b[0m       \u001b[0;32mfor\u001b[0m \u001b[0mindex\u001b[0m\u001b[0;34m,\u001b[0m\u001b[0mlyr\u001b[0m \u001b[0;32min\u001b[0m \u001b[0menumerate\u001b[0m\u001b[0;34m(\u001b[0m\u001b[0mnn\u001b[0m\u001b[0;34m)\u001b[0m\u001b[0;34m:\u001b[0m\u001b[0;34m\u001b[0m\u001b[0;34m\u001b[0m\u001b[0m\n\u001b[1;32m     16\u001b[0m         \u001b[0mlyr_num\u001b[0m \u001b[0;34m=\u001b[0m \u001b[0mindex\u001b[0m\u001b[0;34m+\u001b[0m\u001b[0;36m1\u001b[0m\u001b[0;34m\u001b[0m\u001b[0;34m\u001b[0m\u001b[0m\n\u001b[0;32m---> 17\u001b[0;31m         \u001b[0mparam\u001b[0m\u001b[0;34m[\u001b[0m\u001b[0;34m'w'\u001b[0m\u001b[0;34m+\u001b[0m\u001b[0mstr\u001b[0m\u001b[0;34m(\u001b[0m\u001b[0mlyr_num\u001b[0m\u001b[0;34m)\u001b[0m\u001b[0;34m]\u001b[0m \u001b[0;34m-=\u001b[0m \u001b[0malpha\u001b[0m \u001b[0;34m*\u001b[0m \u001b[0mderiv_values\u001b[0m\u001b[0;34m[\u001b[0m\u001b[0;34m'dw'\u001b[0m\u001b[0;34m+\u001b[0m\u001b[0mstr\u001b[0m\u001b[0;34m(\u001b[0m\u001b[0mlyr_num\u001b[0m\u001b[0;34m)\u001b[0m\u001b[0;34m]\u001b[0m\u001b[0;34m\u001b[0m\u001b[0;34m\u001b[0m\u001b[0m\n\u001b[0m\u001b[1;32m     18\u001b[0m         \u001b[0mparam\u001b[0m\u001b[0;34m[\u001b[0m\u001b[0;34m'b'\u001b[0m\u001b[0;34m+\u001b[0m\u001b[0mstr\u001b[0m\u001b[0;34m(\u001b[0m\u001b[0mlyr_num\u001b[0m\u001b[0;34m)\u001b[0m\u001b[0;34m]\u001b[0m \u001b[0;34m-=\u001b[0m\u001b[0malpha\u001b[0m \u001b[0;34m*\u001b[0m \u001b[0mderiv_values\u001b[0m\u001b[0;34m[\u001b[0m\u001b[0;34m'db'\u001b[0m\u001b[0;34m+\u001b[0m\u001b[0mstr\u001b[0m\u001b[0;34m(\u001b[0m\u001b[0mlyr_num\u001b[0m\u001b[0;34m)\u001b[0m\u001b[0;34m]\u001b[0m\u001b[0;34m\u001b[0m\u001b[0;34m\u001b[0m\u001b[0m\n\u001b[1;32m     19\u001b[0m \u001b[0;34m\u001b[0m\u001b[0m\n",
            "\u001b[0;31mValueError\u001b[0m: operands could not be broadcast together with shapes (3,2) (3,3) (3,2) "
          ]
        }
      ]
    }
  ]
}