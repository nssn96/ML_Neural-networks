{
  "nbformat": 4,
  "nbformat_minor": 0,
  "metadata": {
    "colab": {
      "name": "ML_nn.ipynb",
      "provenance": [],
      "authorship_tag": "ABX9TyOgqcfdpwvMEIi/rpVCwviO",
      "include_colab_link": true
    },
    "kernelspec": {
      "name": "python3",
      "display_name": "Python 3"
    },
    "language_info": {
      "name": "python"
    }
  },
  "cells": [
    {
      "cell_type": "markdown",
      "metadata": {
        "id": "view-in-github",
        "colab_type": "text"
      },
      "source": [
        "<a href=\"https://colab.research.google.com/github/nssn96/ML_Neural-networks/blob/main/ML_nn.ipynb\" target=\"_parent\"><img src=\"https://colab.research.google.com/assets/colab-badge.svg\" alt=\"Open In Colab\"/></a>"
      ]
    },
    {
      "cell_type": "markdown",
      "source": [
        "# ML Assignment 2 - Neural Networks\n",
        "\n",
        "\n",
        "1.   Author : Surya Narayanan Nadhamuni Suresh\n",
        "2.   UTA ID : 1001877873\n",
        "\n"
      ],
      "metadata": {
        "id": "ZbiR1quLjX2R"
      }
    },
    {
      "cell_type": "code",
      "source": [
        "#import lines\n",
        "import numpy as np\n",
        "import pandas as pd\n",
        "import matplotlib.pyplot as plt\n"
      ],
      "metadata": {
        "id": "v04jPQoetByr"
      },
      "execution_count": 69,
      "outputs": []
    },
    {
      "cell_type": "code",
      "source": [
        "#References Used\n",
        "#https://towardsdatascience.com/https-medium-com-piotr-skalski92-deep-dive-into-deep-networks-math-17660bc376ba\n",
        "#https://towardsdatascience.com/lets-code-a-neural-network-in-plain-numpy-ae7e74410795\n",
        "\n",
        "# This is the Layer class\n",
        "\n",
        "class Layer:\n",
        "\n",
        "  def initial_w_bias(self,nn):\n",
        "    \n",
        "    #random seed initiation\n",
        "    np.random.seed(90)\n",
        "    n_layers = len(nn)\n",
        "    param = dict()\n",
        "\n",
        "    for index,layer in enumerate(nn):\n",
        "      layer_num = index+1\n",
        "      lyr_inputsize = layer['d_input']\n",
        "      lyr_outputsize = layer['d_output']\n",
        "\n",
        "      #creating the values for the w and bias matrix\n",
        "      param['w'+str(layer_num)] = np.random.randn(lyr_outputsize,lyr_inputsize) * 0.1\n",
        "      param['b'+str(layer_num)] = np.random.randn(lyr_outputsize,1) * 0.1\n",
        "\n",
        "\n",
        "  def forward(self):\n",
        "    pass\n",
        "\n",
        "\n",
        "  def backward(self):\n",
        "    pass\n",
        "\n"
      ],
      "metadata": {
        "id": "oAZ6__HQjpr1"
      },
      "execution_count": 70,
      "outputs": []
    },
    {
      "cell_type": "code",
      "source": [
        "# This is the Linear layer class\n",
        "\n",
        "class Linearlayer(Layer):\n",
        "\n",
        "  def forward_single(self):\n",
        "    pass\n",
        "  \n",
        "  def forward(self):\n",
        "    return param\n",
        "  \n",
        "  def backward_single(self):\n",
        "    pass\n",
        "  \n",
        "  def backward(self):\n",
        "    pass\n",
        "  "
      ],
      "metadata": {
        "id": "Vi0vJYQfF-TE"
      },
      "execution_count": 71,
      "outputs": []
    },
    {
      "cell_type": "code",
      "source": [
        "#This is the class for the sigmoid function\n",
        "\n",
        "class sigmoid_activation(Layer):\n",
        "\n",
        "  def sigmoid_forwardprop(self,Z):\n",
        "   return 1/(1+np.exp(-Z))\n",
        "  \n",
        "  def sigmoid_backprop(self,dA,z):\n",
        "    value = self.sigmoid(z)\n",
        "    return dA * value * (1-value)\n",
        "  "
      ],
      "metadata": {
        "id": "BxWpJiNFLqBJ"
      },
      "execution_count": 74,
      "outputs": []
    },
    {
      "cell_type": "code",
      "source": [
        "#This is the class for the hyperbolic tangent functions\n",
        "\n",
        "class htangent_activation(Layer):\n",
        "\n",
        "  def tanh_forwardprop(self,z):\n",
        "    #2/(1 + e-2x) - 1\n",
        "    return (2/(1+np.exp(-2*z)) -1)\n",
        "  \n",
        "  def tanh_backprop(self,dA,z):\n",
        "    value = self.tanh_forwardprop(z)\n",
        "    return dA * value * (1-value)\n"
      ],
      "metadata": {
        "id": "z7hed8GpPDNl"
      },
      "execution_count": null,
      "outputs": []
    },
    {
      "cell_type": "code",
      "source": [
        "#This is the class for the softmax function\n",
        "\n",
        "class softmax_activation(Layer):\n",
        "\n",
        "  def softmax_forwardprop(self,z):\n",
        "    return np.exp(z) / sum(np.exp(z))\n",
        "\n",
        "  \n",
        "  def softmax_backprop(self,dA,z):\n",
        "    value = self.softmax_forwardprop(z)\n",
        "    return dA * value * (1-value)\n",
        "\n",
        "  "
      ],
      "metadata": {
        "id": "DEse3zm3aVus"
      },
      "execution_count": null,
      "outputs": []
    },
    {
      "cell_type": "code",
      "source": [
        "# I will be providing the a list of dictionary that contains the parameters for the Neural network( ie the number of layers, number of nodes and activation function)\n",
        "#d_input--> size of the input vector to the layer ie n(l-1) where l is layer\n",
        "#d_ouput--> size of the activation vector at the output of the layer ie n(l)\n",
        "nn = [\n",
        "      {'d_input':2 ,'d_output':3, 'activation': 'tanh' } ,\n",
        "       {'d_input':3 ,'d_output':1, 'activation': 'sigmoid' }\n",
        "]\n",
        "\n",
        "print(nn)"
      ],
      "metadata": {
        "id": "PP2FC4WTnf-T",
        "colab": {
          "base_uri": "https://localhost:8080/"
        },
        "outputId": "e64e1cb0-4861-4a53-a30d-ceb1506098a6"
      },
      "execution_count": 72,
      "outputs": [
        {
          "output_type": "stream",
          "name": "stdout",
          "text": [
            "[{'d_input': 2, 'd_output': 3, 'activation': 'tanh'}, {'d_input': 3, 'd_output': 1, 'activation': 'sigmoid'}]\n"
          ]
        }
      ]
    },
    {
      "cell_type": "code",
      "source": [
        "#testing\n",
        "net = Linearlayer()\n",
        "param = net.initial_w_bias(nn)\n",
        "#print(net.forward())"
      ],
      "metadata": {
        "colab": {
          "base_uri": "https://localhost:8080/"
        },
        "id": "OIPtr3UkD08P",
        "outputId": "36a4b453-bac1-4dff-eec0-19b575055b4a"
      },
      "execution_count": 73,
      "outputs": [
        {
          "output_type": "stream",
          "name": "stdout",
          "text": [
            "{'w1': array([[-0.02244867, -0.02275239],\n",
            "       [-0.05913989, -0.07992277],\n",
            "       [ 0.11901095, -0.13658949]]), 'b1': array([[ 0.07209559],\n",
            "       [-0.13255618],\n",
            "       [ 0.18569316]]), 'w2': array([[ 0.12471803, -0.13542584, -0.07404735]]), 'b2': array([[0.02340754]])}\n"
          ]
        }
      ]
    }
  ]
}