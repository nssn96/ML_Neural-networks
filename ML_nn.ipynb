{
  "nbformat": 4,
  "nbformat_minor": 0,
  "metadata": {
    "colab": {
      "name": "ML_nn.ipynb",
      "provenance": [],
      "authorship_tag": "ABX9TyPShQeq5Ts9dNeEVPNseAkE",
      "include_colab_link": true
    },
    "kernelspec": {
      "name": "python3",
      "display_name": "Python 3"
    },
    "language_info": {
      "name": "python"
    }
  },
  "cells": [
    {
      "cell_type": "markdown",
      "metadata": {
        "id": "view-in-github",
        "colab_type": "text"
      },
      "source": [
        "<a href=\"https://colab.research.google.com/github/nssn96/ML_Neural-networks/blob/main/ML_nn.ipynb\" target=\"_parent\"><img src=\"https://colab.research.google.com/assets/colab-badge.svg\" alt=\"Open In Colab\"/></a>"
      ]
    },
    {
      "cell_type": "markdown",
      "source": [
        "# ML Assignment 2 - Neural Networks\n",
        "\n",
        "\n",
        "1.   Name : Surya Narayanan Nadhamuni Suresh\n",
        "2.   UTA ID : 1001877873\n",
        "\n"
      ],
      "metadata": {
        "id": "ZbiR1quLjX2R"
      }
    },
    {
      "cell_type": "code",
      "source": [
        "# Code for Neural networks"
      ],
      "metadata": {
        "id": "oAZ6__HQjpr1"
      },
      "execution_count": null,
      "outputs": []
    }
  ]
}